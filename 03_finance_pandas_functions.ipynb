{
 "cells": [
  {
   "cell_type": "markdown",
   "id": "d1601d4d",
   "metadata": {},
   "source": [
    "Calculate with columns\n",
    "drop cols\n",
    "add cols\n",
    "min, max, argmin, argmax\n",
    "mean"
   ]
  },
  {
   "cell_type": "code",
   "execution_count": 130,
   "id": "a00e1383",
   "metadata": {},
   "outputs": [],
   "source": [
    "import numpy as np\n",
    "import pandas as pd"
   ]
  },
  {
   "cell_type": "code",
   "execution_count": 131,
   "id": "c52138e8",
   "metadata": {},
   "outputs": [],
   "source": [
    "data = pd.read_csv(\"./data/NFLX.csv\", index_col=[\"Date\"], parse_dates=True)"
   ]
  },
  {
   "cell_type": "code",
   "execution_count": 132,
   "id": "0c766954",
   "metadata": {},
   "outputs": [
    {
     "data": {
      "text/html": [
       "<div>\n",
       "<style scoped>\n",
       "    .dataframe tbody tr th:only-of-type {\n",
       "        vertical-align: middle;\n",
       "    }\n",
       "\n",
       "    .dataframe tbody tr th {\n",
       "        vertical-align: top;\n",
       "    }\n",
       "\n",
       "    .dataframe thead th {\n",
       "        text-align: right;\n",
       "    }\n",
       "</style>\n",
       "<table border=\"1\" class=\"dataframe\">\n",
       "  <thead>\n",
       "    <tr style=\"text-align: right;\">\n",
       "      <th></th>\n",
       "      <th>Open</th>\n",
       "      <th>High</th>\n",
       "      <th>Low</th>\n",
       "      <th>Close</th>\n",
       "      <th>Adj Close</th>\n",
       "      <th>Volume</th>\n",
       "    </tr>\n",
       "    <tr>\n",
       "      <th>Date</th>\n",
       "      <th></th>\n",
       "      <th></th>\n",
       "      <th></th>\n",
       "      <th></th>\n",
       "      <th></th>\n",
       "      <th></th>\n",
       "    </tr>\n",
       "  </thead>\n",
       "  <tbody>\n",
       "    <tr>\n",
       "      <th>2021-02-11</th>\n",
       "      <td>564.440002</td>\n",
       "      <td>565.929993</td>\n",
       "      <td>554.219971</td>\n",
       "      <td>557.590027</td>\n",
       "      <td>557.590027</td>\n",
       "      <td>2730600</td>\n",
       "    </tr>\n",
       "    <tr>\n",
       "      <th>2021-02-12</th>\n",
       "      <td>556.940002</td>\n",
       "      <td>561.250000</td>\n",
       "      <td>550.849976</td>\n",
       "      <td>556.520020</td>\n",
       "      <td>556.520020</td>\n",
       "      <td>2197100</td>\n",
       "    </tr>\n",
       "    <tr>\n",
       "      <th>2021-02-16</th>\n",
       "      <td>557.289978</td>\n",
       "      <td>563.630005</td>\n",
       "      <td>552.729980</td>\n",
       "      <td>557.280029</td>\n",
       "      <td>557.280029</td>\n",
       "      <td>2624100</td>\n",
       "    </tr>\n",
       "    <tr>\n",
       "      <th>2021-02-17</th>\n",
       "      <td>550.989990</td>\n",
       "      <td>555.250000</td>\n",
       "      <td>543.030029</td>\n",
       "      <td>551.340027</td>\n",
       "      <td>551.340027</td>\n",
       "      <td>2069600</td>\n",
       "    </tr>\n",
       "    <tr>\n",
       "      <th>2021-02-18</th>\n",
       "      <td>549.000000</td>\n",
       "      <td>550.000000</td>\n",
       "      <td>538.229980</td>\n",
       "      <td>548.219971</td>\n",
       "      <td>548.219971</td>\n",
       "      <td>2456200</td>\n",
       "    </tr>\n",
       "  </tbody>\n",
       "</table>\n",
       "</div>"
      ],
      "text/plain": [
       "                  Open        High         Low       Close   Adj Close  \\\n",
       "Date                                                                     \n",
       "2021-02-11  564.440002  565.929993  554.219971  557.590027  557.590027   \n",
       "2021-02-12  556.940002  561.250000  550.849976  556.520020  556.520020   \n",
       "2021-02-16  557.289978  563.630005  552.729980  557.280029  557.280029   \n",
       "2021-02-17  550.989990  555.250000  543.030029  551.340027  551.340027   \n",
       "2021-02-18  549.000000  550.000000  538.229980  548.219971  548.219971   \n",
       "\n",
       "             Volume  \n",
       "Date                 \n",
       "2021-02-11  2730600  \n",
       "2021-02-12  2197100  \n",
       "2021-02-16  2624100  \n",
       "2021-02-17  2069600  \n",
       "2021-02-18  2456200  "
      ]
     },
     "execution_count": 132,
     "metadata": {},
     "output_type": "execute_result"
    }
   ],
   "source": [
    "data.head()"
   ]
  },
  {
   "cell_type": "code",
   "execution_count": 133,
   "id": "a5d29606",
   "metadata": {},
   "outputs": [],
   "source": [
    "data[\"Daily_Chg\"] = data['Close'] - data['Open']"
   ]
  },
  {
   "cell_type": "code",
   "execution_count": 134,
   "id": "4906a172",
   "metadata": {},
   "outputs": [],
   "source": [
    "#make a calculation but add it as a new column\n",
    "\n",
    "data[\"Daily_Pct_Chg\"] = ((data[\"Close\"] - data[\"Open\"]) / data[\"Close\"]) * 100"
   ]
  },
  {
   "cell_type": "code",
   "execution_count": 135,
   "id": "a3f3dc9c",
   "metadata": {},
   "outputs": [
    {
     "data": {
      "text/html": [
       "<div>\n",
       "<style scoped>\n",
       "    .dataframe tbody tr th:only-of-type {\n",
       "        vertical-align: middle;\n",
       "    }\n",
       "\n",
       "    .dataframe tbody tr th {\n",
       "        vertical-align: top;\n",
       "    }\n",
       "\n",
       "    .dataframe thead th {\n",
       "        text-align: right;\n",
       "    }\n",
       "</style>\n",
       "<table border=\"1\" class=\"dataframe\">\n",
       "  <thead>\n",
       "    <tr style=\"text-align: right;\">\n",
       "      <th></th>\n",
       "      <th>Open</th>\n",
       "      <th>High</th>\n",
       "      <th>Low</th>\n",
       "      <th>Close</th>\n",
       "      <th>Adj Close</th>\n",
       "      <th>Volume</th>\n",
       "      <th>Daily_Chg</th>\n",
       "      <th>Daily_Pct_Chg</th>\n",
       "    </tr>\n",
       "    <tr>\n",
       "      <th>Date</th>\n",
       "      <th></th>\n",
       "      <th></th>\n",
       "      <th></th>\n",
       "      <th></th>\n",
       "      <th></th>\n",
       "      <th></th>\n",
       "      <th></th>\n",
       "      <th></th>\n",
       "    </tr>\n",
       "  </thead>\n",
       "  <tbody>\n",
       "    <tr>\n",
       "      <th>2021-02-11</th>\n",
       "      <td>564.440002</td>\n",
       "      <td>565.929993</td>\n",
       "      <td>554.219971</td>\n",
       "      <td>557.590027</td>\n",
       "      <td>557.590027</td>\n",
       "      <td>2730600</td>\n",
       "      <td>-6.849975</td>\n",
       "      <td>-1.228497</td>\n",
       "    </tr>\n",
       "    <tr>\n",
       "      <th>2021-02-12</th>\n",
       "      <td>556.940002</td>\n",
       "      <td>561.250000</td>\n",
       "      <td>550.849976</td>\n",
       "      <td>556.520020</td>\n",
       "      <td>556.520020</td>\n",
       "      <td>2197100</td>\n",
       "      <td>-0.419982</td>\n",
       "      <td>-0.075466</td>\n",
       "    </tr>\n",
       "    <tr>\n",
       "      <th>2021-02-16</th>\n",
       "      <td>557.289978</td>\n",
       "      <td>563.630005</td>\n",
       "      <td>552.729980</td>\n",
       "      <td>557.280029</td>\n",
       "      <td>557.280029</td>\n",
       "      <td>2624100</td>\n",
       "      <td>-0.009949</td>\n",
       "      <td>-0.001785</td>\n",
       "    </tr>\n",
       "    <tr>\n",
       "      <th>2021-02-17</th>\n",
       "      <td>550.989990</td>\n",
       "      <td>555.250000</td>\n",
       "      <td>543.030029</td>\n",
       "      <td>551.340027</td>\n",
       "      <td>551.340027</td>\n",
       "      <td>2069600</td>\n",
       "      <td>0.350037</td>\n",
       "      <td>0.063488</td>\n",
       "    </tr>\n",
       "    <tr>\n",
       "      <th>2021-02-18</th>\n",
       "      <td>549.000000</td>\n",
       "      <td>550.000000</td>\n",
       "      <td>538.229980</td>\n",
       "      <td>548.219971</td>\n",
       "      <td>548.219971</td>\n",
       "      <td>2456200</td>\n",
       "      <td>-0.780029</td>\n",
       "      <td>-0.142284</td>\n",
       "    </tr>\n",
       "  </tbody>\n",
       "</table>\n",
       "</div>"
      ],
      "text/plain": [
       "                  Open        High         Low       Close   Adj Close  \\\n",
       "Date                                                                     \n",
       "2021-02-11  564.440002  565.929993  554.219971  557.590027  557.590027   \n",
       "2021-02-12  556.940002  561.250000  550.849976  556.520020  556.520020   \n",
       "2021-02-16  557.289978  563.630005  552.729980  557.280029  557.280029   \n",
       "2021-02-17  550.989990  555.250000  543.030029  551.340027  551.340027   \n",
       "2021-02-18  549.000000  550.000000  538.229980  548.219971  548.219971   \n",
       "\n",
       "             Volume  Daily_Chg  Daily_Pct_Chg  \n",
       "Date                                           \n",
       "2021-02-11  2730600  -6.849975      -1.228497  \n",
       "2021-02-12  2197100  -0.419982      -0.075466  \n",
       "2021-02-16  2624100  -0.009949      -0.001785  \n",
       "2021-02-17  2069600   0.350037       0.063488  \n",
       "2021-02-18  2456200  -0.780029      -0.142284  "
      ]
     },
     "execution_count": 135,
     "metadata": {},
     "output_type": "execute_result"
    }
   ],
   "source": [
    "data.head()"
   ]
  },
  {
   "cell_type": "code",
   "execution_count": 136,
   "id": "5861c4b4",
   "metadata": {},
   "outputs": [],
   "source": [
    "#assume we bought on Day 0, what is our normailzed gain or loss\n",
    "#first day is 1.0 because it is closing price / closing price for smae day\n",
    "data['Normalized'] = data['Close'] / data['Close'].iloc[0]"
   ]
  },
  {
   "cell_type": "code",
   "execution_count": 137,
   "id": "641d9d21",
   "metadata": {},
   "outputs": [
    {
     "data": {
      "text/html": [
       "<div>\n",
       "<style scoped>\n",
       "    .dataframe tbody tr th:only-of-type {\n",
       "        vertical-align: middle;\n",
       "    }\n",
       "\n",
       "    .dataframe tbody tr th {\n",
       "        vertical-align: top;\n",
       "    }\n",
       "\n",
       "    .dataframe thead th {\n",
       "        text-align: right;\n",
       "    }\n",
       "</style>\n",
       "<table border=\"1\" class=\"dataframe\">\n",
       "  <thead>\n",
       "    <tr style=\"text-align: right;\">\n",
       "      <th></th>\n",
       "      <th>Open</th>\n",
       "      <th>High</th>\n",
       "      <th>Low</th>\n",
       "      <th>Close</th>\n",
       "      <th>Adj Close</th>\n",
       "      <th>Volume</th>\n",
       "      <th>Daily_Chg</th>\n",
       "      <th>Daily_Pct_Chg</th>\n",
       "      <th>Normalized</th>\n",
       "    </tr>\n",
       "    <tr>\n",
       "      <th>Date</th>\n",
       "      <th></th>\n",
       "      <th></th>\n",
       "      <th></th>\n",
       "      <th></th>\n",
       "      <th></th>\n",
       "      <th></th>\n",
       "      <th></th>\n",
       "      <th></th>\n",
       "      <th></th>\n",
       "    </tr>\n",
       "  </thead>\n",
       "  <tbody>\n",
       "    <tr>\n",
       "      <th>2021-02-11</th>\n",
       "      <td>564.440002</td>\n",
       "      <td>565.929993</td>\n",
       "      <td>554.219971</td>\n",
       "      <td>557.590027</td>\n",
       "      <td>557.590027</td>\n",
       "      <td>2730600</td>\n",
       "      <td>-6.849975</td>\n",
       "      <td>-1.228497</td>\n",
       "      <td>1.000000</td>\n",
       "    </tr>\n",
       "    <tr>\n",
       "      <th>2021-02-12</th>\n",
       "      <td>556.940002</td>\n",
       "      <td>561.250000</td>\n",
       "      <td>550.849976</td>\n",
       "      <td>556.520020</td>\n",
       "      <td>556.520020</td>\n",
       "      <td>2197100</td>\n",
       "      <td>-0.419982</td>\n",
       "      <td>-0.075466</td>\n",
       "      <td>0.998081</td>\n",
       "    </tr>\n",
       "    <tr>\n",
       "      <th>2021-02-16</th>\n",
       "      <td>557.289978</td>\n",
       "      <td>563.630005</td>\n",
       "      <td>552.729980</td>\n",
       "      <td>557.280029</td>\n",
       "      <td>557.280029</td>\n",
       "      <td>2624100</td>\n",
       "      <td>-0.009949</td>\n",
       "      <td>-0.001785</td>\n",
       "      <td>0.999444</td>\n",
       "    </tr>\n",
       "    <tr>\n",
       "      <th>2021-02-17</th>\n",
       "      <td>550.989990</td>\n",
       "      <td>555.250000</td>\n",
       "      <td>543.030029</td>\n",
       "      <td>551.340027</td>\n",
       "      <td>551.340027</td>\n",
       "      <td>2069600</td>\n",
       "      <td>0.350037</td>\n",
       "      <td>0.063488</td>\n",
       "      <td>0.988791</td>\n",
       "    </tr>\n",
       "    <tr>\n",
       "      <th>2021-02-18</th>\n",
       "      <td>549.000000</td>\n",
       "      <td>550.000000</td>\n",
       "      <td>538.229980</td>\n",
       "      <td>548.219971</td>\n",
       "      <td>548.219971</td>\n",
       "      <td>2456200</td>\n",
       "      <td>-0.780029</td>\n",
       "      <td>-0.142284</td>\n",
       "      <td>0.983195</td>\n",
       "    </tr>\n",
       "  </tbody>\n",
       "</table>\n",
       "</div>"
      ],
      "text/plain": [
       "                  Open        High         Low       Close   Adj Close  \\\n",
       "Date                                                                     \n",
       "2021-02-11  564.440002  565.929993  554.219971  557.590027  557.590027   \n",
       "2021-02-12  556.940002  561.250000  550.849976  556.520020  556.520020   \n",
       "2021-02-16  557.289978  563.630005  552.729980  557.280029  557.280029   \n",
       "2021-02-17  550.989990  555.250000  543.030029  551.340027  551.340027   \n",
       "2021-02-18  549.000000  550.000000  538.229980  548.219971  548.219971   \n",
       "\n",
       "             Volume  Daily_Chg  Daily_Pct_Chg  Normalized  \n",
       "Date                                                       \n",
       "2021-02-11  2730600  -6.849975      -1.228497    1.000000  \n",
       "2021-02-12  2197100  -0.419982      -0.075466    0.998081  \n",
       "2021-02-16  2624100  -0.009949      -0.001785    0.999444  \n",
       "2021-02-17  2069600   0.350037       0.063488    0.988791  \n",
       "2021-02-18  2456200  -0.780029      -0.142284    0.983195  "
      ]
     },
     "execution_count": 137,
     "metadata": {},
     "output_type": "execute_result"
    }
   ],
   "source": [
    "data.head()"
   ]
  },
  {
   "cell_type": "code",
   "execution_count": 138,
   "id": "58068075",
   "metadata": {},
   "outputs": [
    {
     "data": {
      "text/plain": [
       "550.1729125039367"
      ]
     },
     "execution_count": 138,
     "metadata": {},
     "output_type": "execute_result"
    }
   ],
   "source": [
    "data[\"Close\"].mean()"
   ]
  },
  {
   "cell_type": "code",
   "execution_count": 139,
   "id": "008f83eb",
   "metadata": {},
   "outputs": [
    {
     "data": {
      "text/plain": [
       "359.700012"
      ]
     },
     "execution_count": 139,
     "metadata": {},
     "output_type": "execute_result"
    }
   ],
   "source": [
    "data['Close'].min()"
   ]
  },
  {
   "cell_type": "code",
   "execution_count": 140,
   "id": "4da80003",
   "metadata": {},
   "outputs": [
    {
     "data": {
      "text/plain": [
       "691.690002"
      ]
     },
     "execution_count": 140,
     "metadata": {},
     "output_type": "execute_result"
    }
   ],
   "source": [
    "data['Close'].max()"
   ]
  },
  {
   "cell_type": "code",
   "execution_count": 141,
   "id": "28a08204",
   "metadata": {},
   "outputs": [
    {
     "data": {
      "text/plain": [
       "Open             5.506378e+02\n",
       "High             5.571814e+02\n",
       "Low              5.432456e+02\n",
       "Close            5.501729e+02\n",
       "Adj Close        5.501729e+02\n",
       "Volume           4.520564e+06\n",
       "Daily_Chg       -4.648428e-01\n",
       "Daily_Pct_Chg   -9.663475e-02\n",
       "Normalized       9.866979e-01\n",
       "dtype: float64"
      ]
     },
     "execution_count": 141,
     "metadata": {},
     "output_type": "execute_result"
    }
   ],
   "source": [
    "#can also run these more generically on every series at a time\n",
    "\n",
    "data.mean()"
   ]
  },
  {
   "cell_type": "code",
   "execution_count": 142,
   "id": "026371fb",
   "metadata": {},
   "outputs": [
    {
     "data": {
      "text/plain": [
       "359.700012"
      ]
     },
     "execution_count": 142,
     "metadata": {},
     "output_type": "execute_result"
    }
   ],
   "source": [
    "#if you want to know min and the day it was the min (i.e what row is the min value in)\n",
    "data['Close'].min()"
   ]
  },
  {
   "cell_type": "code",
   "execution_count": 143,
   "id": "f5d59d23",
   "metadata": {},
   "outputs": [
    {
     "data": {
      "text/plain": [
       "241"
      ]
     },
     "execution_count": 143,
     "metadata": {},
     "output_type": "execute_result"
    }
   ],
   "source": [
    "data['Close'].argmin()"
   ]
  },
  {
   "cell_type": "code",
   "execution_count": 144,
   "id": "54c787cf",
   "metadata": {},
   "outputs": [
    {
     "data": {
      "text/plain": [
       "Open             3.782700e+02\n",
       "High             3.826600e+02\n",
       "Low              3.566200e+02\n",
       "Close            3.597000e+02\n",
       "Adj Close        3.597000e+02\n",
       "Volume           1.268400e+07\n",
       "Daily_Chg       -1.856998e+01\n",
       "Daily_Pct_Chg   -5.162629e+00\n",
       "Normalized       6.450976e-01\n",
       "Name: 2022-01-26 00:00:00, dtype: float64"
      ]
     },
     "execution_count": 144,
     "metadata": {},
     "output_type": "execute_result"
    }
   ],
   "source": [
    "#then you can access it\n",
    "data.iloc[241]"
   ]
  },
  {
   "cell_type": "code",
   "execution_count": 145,
   "id": "7cb21625",
   "metadata": {},
   "outputs": [
    {
     "data": {
      "text/plain": [
       "0.6450976426807578"
      ]
     },
     "execution_count": 145,
     "metadata": {},
     "output_type": "execute_result"
    }
   ],
   "source": [
    "data['Normalized'].min()"
   ]
  },
  {
   "cell_type": "code",
   "execution_count": 146,
   "id": "0fe8fe27",
   "metadata": {},
   "outputs": [
    {
     "data": {
      "text/plain": [
       "241"
      ]
     },
     "execution_count": 146,
     "metadata": {},
     "output_type": "execute_result"
    }
   ],
   "source": [
    "data['Normalized'].argmin()"
   ]
  },
  {
   "cell_type": "code",
   "execution_count": 147,
   "id": "81365591",
   "metadata": {},
   "outputs": [
    {
     "data": {
      "text/plain": [
       "Open             3.782700e+02\n",
       "High             3.826600e+02\n",
       "Low              3.566200e+02\n",
       "Close            3.597000e+02\n",
       "Adj Close        3.597000e+02\n",
       "Volume           1.268400e+07\n",
       "Daily_Chg       -1.856998e+01\n",
       "Daily_Pct_Chg   -5.162629e+00\n",
       "Normalized       6.450976e-01\n",
       "Name: 2022-01-26 00:00:00, dtype: float64"
      ]
     },
     "execution_count": 147,
     "metadata": {},
     "output_type": "execute_result"
    }
   ],
   "source": [
    "data.iloc[241]"
   ]
  },
  {
   "cell_type": "code",
   "execution_count": 148,
   "id": "80480a74",
   "metadata": {},
   "outputs": [
    {
     "data": {
      "text/plain": [
       "550.1729125039367"
      ]
     },
     "execution_count": 148,
     "metadata": {},
     "output_type": "execute_result"
    }
   ],
   "source": [
    "data['Close'].mean()"
   ]
  },
  {
   "cell_type": "code",
   "execution_count": 149,
   "id": "fb585641",
   "metadata": {},
   "outputs": [
    {
     "data": {
      "text/html": [
       "<div>\n",
       "<style scoped>\n",
       "    .dataframe tbody tr th:only-of-type {\n",
       "        vertical-align: middle;\n",
       "    }\n",
       "\n",
       "    .dataframe tbody tr th {\n",
       "        vertical-align: top;\n",
       "    }\n",
       "\n",
       "    .dataframe thead th {\n",
       "        text-align: right;\n",
       "    }\n",
       "</style>\n",
       "<table border=\"1\" class=\"dataframe\">\n",
       "  <thead>\n",
       "    <tr style=\"text-align: right;\">\n",
       "      <th></th>\n",
       "      <th>Open</th>\n",
       "      <th>High</th>\n",
       "      <th>Low</th>\n",
       "      <th>Close</th>\n",
       "      <th>Adj Close</th>\n",
       "      <th>Volume</th>\n",
       "      <th>Daily_Chg</th>\n",
       "      <th>Daily_Pct_Chg</th>\n",
       "      <th>Normalized</th>\n",
       "    </tr>\n",
       "    <tr>\n",
       "      <th>Date</th>\n",
       "      <th></th>\n",
       "      <th></th>\n",
       "      <th></th>\n",
       "      <th></th>\n",
       "      <th></th>\n",
       "      <th></th>\n",
       "      <th></th>\n",
       "      <th></th>\n",
       "      <th></th>\n",
       "    </tr>\n",
       "  </thead>\n",
       "  <tbody>\n",
       "    <tr>\n",
       "      <th>2021-02-11</th>\n",
       "      <td>564.440002</td>\n",
       "      <td>565.929993</td>\n",
       "      <td>554.219971</td>\n",
       "      <td>557.590027</td>\n",
       "      <td>557.590027</td>\n",
       "      <td>2730600</td>\n",
       "      <td>-6.849975</td>\n",
       "      <td>-1.228497</td>\n",
       "      <td>1.000000</td>\n",
       "    </tr>\n",
       "    <tr>\n",
       "      <th>2021-02-12</th>\n",
       "      <td>556.940002</td>\n",
       "      <td>561.250000</td>\n",
       "      <td>550.849976</td>\n",
       "      <td>556.520020</td>\n",
       "      <td>556.520020</td>\n",
       "      <td>2197100</td>\n",
       "      <td>-0.419982</td>\n",
       "      <td>-0.075466</td>\n",
       "      <td>0.998081</td>\n",
       "    </tr>\n",
       "    <tr>\n",
       "      <th>2021-02-16</th>\n",
       "      <td>557.289978</td>\n",
       "      <td>563.630005</td>\n",
       "      <td>552.729980</td>\n",
       "      <td>557.280029</td>\n",
       "      <td>557.280029</td>\n",
       "      <td>2624100</td>\n",
       "      <td>-0.009949</td>\n",
       "      <td>-0.001785</td>\n",
       "      <td>0.999444</td>\n",
       "    </tr>\n",
       "    <tr>\n",
       "      <th>2021-02-17</th>\n",
       "      <td>550.989990</td>\n",
       "      <td>555.250000</td>\n",
       "      <td>543.030029</td>\n",
       "      <td>551.340027</td>\n",
       "      <td>551.340027</td>\n",
       "      <td>2069600</td>\n",
       "      <td>0.350037</td>\n",
       "      <td>0.063488</td>\n",
       "      <td>0.988791</td>\n",
       "    </tr>\n",
       "    <tr>\n",
       "      <th>2021-02-18</th>\n",
       "      <td>549.000000</td>\n",
       "      <td>550.000000</td>\n",
       "      <td>538.229980</td>\n",
       "      <td>548.219971</td>\n",
       "      <td>548.219971</td>\n",
       "      <td>2456200</td>\n",
       "      <td>-0.780029</td>\n",
       "      <td>-0.142284</td>\n",
       "      <td>0.983195</td>\n",
       "    </tr>\n",
       "  </tbody>\n",
       "</table>\n",
       "</div>"
      ],
      "text/plain": [
       "                  Open        High         Low       Close   Adj Close  \\\n",
       "Date                                                                     \n",
       "2021-02-11  564.440002  565.929993  554.219971  557.590027  557.590027   \n",
       "2021-02-12  556.940002  561.250000  550.849976  556.520020  556.520020   \n",
       "2021-02-16  557.289978  563.630005  552.729980  557.280029  557.280029   \n",
       "2021-02-17  550.989990  555.250000  543.030029  551.340027  551.340027   \n",
       "2021-02-18  549.000000  550.000000  538.229980  548.219971  548.219971   \n",
       "\n",
       "             Volume  Daily_Chg  Daily_Pct_Chg  Normalized  \n",
       "Date                                                       \n",
       "2021-02-11  2730600  -6.849975      -1.228497    1.000000  \n",
       "2021-02-12  2197100  -0.419982      -0.075466    0.998081  \n",
       "2021-02-16  2624100  -0.009949      -0.001785    0.999444  \n",
       "2021-02-17  2069600   0.350037       0.063488    0.988791  \n",
       "2021-02-18  2456200  -0.780029      -0.142284    0.983195  "
      ]
     },
     "execution_count": 149,
     "metadata": {},
     "output_type": "execute_result"
    }
   ],
   "source": [
    "data.head()"
   ]
  },
  {
   "cell_type": "markdown",
   "id": "6560e91f",
   "metadata": {},
   "source": [
    "Drop Columns\n",
    "Default is axis=0 which is rows\n",
    "axis=1 is columns\n",
    "\n",
    "It is also not in place unless you specifiy"
   ]
  },
  {
   "cell_type": "code",
   "execution_count": 150,
   "id": "ceb682fe",
   "metadata": {},
   "outputs": [],
   "source": [
    "\n",
    "data.drop(labels=['Adj Close', 'Volume'], axis=1, inplace=True)"
   ]
  },
  {
   "cell_type": "code",
   "execution_count": 151,
   "id": "f835e667",
   "metadata": {},
   "outputs": [
    {
     "data": {
      "text/html": [
       "<div>\n",
       "<style scoped>\n",
       "    .dataframe tbody tr th:only-of-type {\n",
       "        vertical-align: middle;\n",
       "    }\n",
       "\n",
       "    .dataframe tbody tr th {\n",
       "        vertical-align: top;\n",
       "    }\n",
       "\n",
       "    .dataframe thead th {\n",
       "        text-align: right;\n",
       "    }\n",
       "</style>\n",
       "<table border=\"1\" class=\"dataframe\">\n",
       "  <thead>\n",
       "    <tr style=\"text-align: right;\">\n",
       "      <th></th>\n",
       "      <th>Open</th>\n",
       "      <th>High</th>\n",
       "      <th>Low</th>\n",
       "      <th>Close</th>\n",
       "      <th>Daily_Chg</th>\n",
       "      <th>Daily_Pct_Chg</th>\n",
       "      <th>Normalized</th>\n",
       "    </tr>\n",
       "    <tr>\n",
       "      <th>Date</th>\n",
       "      <th></th>\n",
       "      <th></th>\n",
       "      <th></th>\n",
       "      <th></th>\n",
       "      <th></th>\n",
       "      <th></th>\n",
       "      <th></th>\n",
       "    </tr>\n",
       "  </thead>\n",
       "  <tbody>\n",
       "    <tr>\n",
       "      <th>2021-02-11</th>\n",
       "      <td>564.440002</td>\n",
       "      <td>565.929993</td>\n",
       "      <td>554.219971</td>\n",
       "      <td>557.590027</td>\n",
       "      <td>-6.849975</td>\n",
       "      <td>-1.228497</td>\n",
       "      <td>1.000000</td>\n",
       "    </tr>\n",
       "    <tr>\n",
       "      <th>2021-02-12</th>\n",
       "      <td>556.940002</td>\n",
       "      <td>561.250000</td>\n",
       "      <td>550.849976</td>\n",
       "      <td>556.520020</td>\n",
       "      <td>-0.419982</td>\n",
       "      <td>-0.075466</td>\n",
       "      <td>0.998081</td>\n",
       "    </tr>\n",
       "    <tr>\n",
       "      <th>2021-02-16</th>\n",
       "      <td>557.289978</td>\n",
       "      <td>563.630005</td>\n",
       "      <td>552.729980</td>\n",
       "      <td>557.280029</td>\n",
       "      <td>-0.009949</td>\n",
       "      <td>-0.001785</td>\n",
       "      <td>0.999444</td>\n",
       "    </tr>\n",
       "    <tr>\n",
       "      <th>2021-02-17</th>\n",
       "      <td>550.989990</td>\n",
       "      <td>555.250000</td>\n",
       "      <td>543.030029</td>\n",
       "      <td>551.340027</td>\n",
       "      <td>0.350037</td>\n",
       "      <td>0.063488</td>\n",
       "      <td>0.988791</td>\n",
       "    </tr>\n",
       "    <tr>\n",
       "      <th>2021-02-18</th>\n",
       "      <td>549.000000</td>\n",
       "      <td>550.000000</td>\n",
       "      <td>538.229980</td>\n",
       "      <td>548.219971</td>\n",
       "      <td>-0.780029</td>\n",
       "      <td>-0.142284</td>\n",
       "      <td>0.983195</td>\n",
       "    </tr>\n",
       "  </tbody>\n",
       "</table>\n",
       "</div>"
      ],
      "text/plain": [
       "                  Open        High         Low       Close  Daily_Chg  \\\n",
       "Date                                                                    \n",
       "2021-02-11  564.440002  565.929993  554.219971  557.590027  -6.849975   \n",
       "2021-02-12  556.940002  561.250000  550.849976  556.520020  -0.419982   \n",
       "2021-02-16  557.289978  563.630005  552.729980  557.280029  -0.009949   \n",
       "2021-02-17  550.989990  555.250000  543.030029  551.340027   0.350037   \n",
       "2021-02-18  549.000000  550.000000  538.229980  548.219971  -0.780029   \n",
       "\n",
       "            Daily_Pct_Chg  Normalized  \n",
       "Date                                   \n",
       "2021-02-11      -1.228497    1.000000  \n",
       "2021-02-12      -0.075466    0.998081  \n",
       "2021-02-16      -0.001785    0.999444  \n",
       "2021-02-17       0.063488    0.988791  \n",
       "2021-02-18      -0.142284    0.983195  "
      ]
     },
     "execution_count": 151,
     "metadata": {},
     "output_type": "execute_result"
    }
   ],
   "source": [
    "data.head()"
   ]
  },
  {
   "cell_type": "code",
   "execution_count": null,
   "id": "257b0ecd",
   "metadata": {},
   "outputs": [],
   "source": []
  },
  {
   "cell_type": "code",
   "execution_count": null,
   "id": "4854c2b1",
   "metadata": {},
   "outputs": [],
   "source": []
  }
 ],
 "metadata": {
  "kernelspec": {
   "display_name": "Python 3 (ipykernel)",
   "language": "python",
   "name": "python3"
  },
  "language_info": {
   "codemirror_mode": {
    "name": "ipython",
    "version": 3
   },
   "file_extension": ".py",
   "mimetype": "text/x-python",
   "name": "python",
   "nbconvert_exporter": "python",
   "pygments_lexer": "ipython3",
   "version": "3.9.7"
  }
 },
 "nbformat": 4,
 "nbformat_minor": 5
}
