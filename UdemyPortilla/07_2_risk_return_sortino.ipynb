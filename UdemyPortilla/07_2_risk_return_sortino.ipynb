{
 "cells": [
  {
   "cell_type": "markdown",
   "id": "844c8c97",
   "metadata": {},
   "source": [
    "Sortino Ratio does not punish volatility if it is in the upward direction\n",
    "Set a threshold for volatility (typically zero)\n",
    "sortino ratio = (mean asset return - risk free rate)/std. dev. of downside returns"
   ]
  },
  {
   "cell_type": "code",
   "execution_count": 23,
   "id": "d2243996",
   "metadata": {},
   "outputs": [],
   "source": [
    "import pandas_datareader as pdr\n",
    "import datetime as dt\n",
    "import numpy as np"
   ]
  },
  {
   "cell_type": "code",
   "execution_count": 24,
   "id": "0014ad6e",
   "metadata": {},
   "outputs": [],
   "source": [
    "#NOTE: we are going to get an extra day so we can drop it so we dont have a NaN on first day\n",
    "#when you do the daily pct change\n",
    "start = dt.datetime(2021, 2, 26)\n",
    "end = dt.datetime(2022, 3, 1)"
   ]
  },
  {
   "cell_type": "code",
   "execution_count": 25,
   "id": "038e9fbf",
   "metadata": {},
   "outputs": [],
   "source": [
    "aapl = pdr.get_data_yahoo(\"AAPL\", start, end)"
   ]
  },
  {
   "cell_type": "code",
   "execution_count": 26,
   "id": "d8b19262",
   "metadata": {},
   "outputs": [
    {
     "data": {
      "text/html": [
       "<div>\n",
       "<style scoped>\n",
       "    .dataframe tbody tr th:only-of-type {\n",
       "        vertical-align: middle;\n",
       "    }\n",
       "\n",
       "    .dataframe tbody tr th {\n",
       "        vertical-align: top;\n",
       "    }\n",
       "\n",
       "    .dataframe thead th {\n",
       "        text-align: right;\n",
       "    }\n",
       "</style>\n",
       "<table border=\"1\" class=\"dataframe\">\n",
       "  <thead>\n",
       "    <tr style=\"text-align: right;\">\n",
       "      <th></th>\n",
       "      <th>High</th>\n",
       "      <th>Low</th>\n",
       "      <th>Open</th>\n",
       "      <th>Close</th>\n",
       "      <th>Volume</th>\n",
       "      <th>Adj Close</th>\n",
       "    </tr>\n",
       "    <tr>\n",
       "      <th>Date</th>\n",
       "      <th></th>\n",
       "      <th></th>\n",
       "      <th></th>\n",
       "      <th></th>\n",
       "      <th></th>\n",
       "      <th></th>\n",
       "    </tr>\n",
       "  </thead>\n",
       "  <tbody>\n",
       "    <tr>\n",
       "      <th>2021-02-26</th>\n",
       "      <td>124.849998</td>\n",
       "      <td>121.199997</td>\n",
       "      <td>122.589996</td>\n",
       "      <td>121.260002</td>\n",
       "      <td>164560400.0</td>\n",
       "      <td>120.543556</td>\n",
       "    </tr>\n",
       "    <tr>\n",
       "      <th>2021-03-01</th>\n",
       "      <td>127.930000</td>\n",
       "      <td>122.790001</td>\n",
       "      <td>123.750000</td>\n",
       "      <td>127.790001</td>\n",
       "      <td>116307900.0</td>\n",
       "      <td>127.034966</td>\n",
       "    </tr>\n",
       "    <tr>\n",
       "      <th>2021-03-02</th>\n",
       "      <td>128.720001</td>\n",
       "      <td>125.010002</td>\n",
       "      <td>128.410004</td>\n",
       "      <td>125.120003</td>\n",
       "      <td>102260900.0</td>\n",
       "      <td>124.380745</td>\n",
       "    </tr>\n",
       "    <tr>\n",
       "      <th>2021-03-03</th>\n",
       "      <td>125.709999</td>\n",
       "      <td>121.839996</td>\n",
       "      <td>124.809998</td>\n",
       "      <td>122.059998</td>\n",
       "      <td>112966300.0</td>\n",
       "      <td>121.338821</td>\n",
       "    </tr>\n",
       "    <tr>\n",
       "      <th>2021-03-04</th>\n",
       "      <td>123.599998</td>\n",
       "      <td>118.620003</td>\n",
       "      <td>121.750000</td>\n",
       "      <td>120.129997</td>\n",
       "      <td>178155000.0</td>\n",
       "      <td>119.420219</td>\n",
       "    </tr>\n",
       "    <tr>\n",
       "      <th>...</th>\n",
       "      <td>...</td>\n",
       "      <td>...</td>\n",
       "      <td>...</td>\n",
       "      <td>...</td>\n",
       "      <td>...</td>\n",
       "      <td>...</td>\n",
       "    </tr>\n",
       "    <tr>\n",
       "      <th>2022-02-23</th>\n",
       "      <td>166.149994</td>\n",
       "      <td>159.750000</td>\n",
       "      <td>165.539993</td>\n",
       "      <td>160.070007</td>\n",
       "      <td>90009200.0</td>\n",
       "      <td>160.070007</td>\n",
       "    </tr>\n",
       "    <tr>\n",
       "      <th>2022-02-24</th>\n",
       "      <td>162.850006</td>\n",
       "      <td>152.000000</td>\n",
       "      <td>152.580002</td>\n",
       "      <td>162.740005</td>\n",
       "      <td>141147500.0</td>\n",
       "      <td>162.740005</td>\n",
       "    </tr>\n",
       "    <tr>\n",
       "      <th>2022-02-25</th>\n",
       "      <td>165.119995</td>\n",
       "      <td>160.869995</td>\n",
       "      <td>163.839996</td>\n",
       "      <td>164.850006</td>\n",
       "      <td>91974200.0</td>\n",
       "      <td>164.850006</td>\n",
       "    </tr>\n",
       "    <tr>\n",
       "      <th>2022-02-28</th>\n",
       "      <td>165.419998</td>\n",
       "      <td>162.429993</td>\n",
       "      <td>163.059998</td>\n",
       "      <td>165.119995</td>\n",
       "      <td>94869100.0</td>\n",
       "      <td>165.119995</td>\n",
       "    </tr>\n",
       "    <tr>\n",
       "      <th>2022-03-01</th>\n",
       "      <td>166.600006</td>\n",
       "      <td>161.970001</td>\n",
       "      <td>164.699997</td>\n",
       "      <td>163.199997</td>\n",
       "      <td>83474400.0</td>\n",
       "      <td>163.199997</td>\n",
       "    </tr>\n",
       "  </tbody>\n",
       "</table>\n",
       "<p>255 rows × 6 columns</p>\n",
       "</div>"
      ],
      "text/plain": [
       "                  High         Low        Open       Close       Volume  \\\n",
       "Date                                                                      \n",
       "2021-02-26  124.849998  121.199997  122.589996  121.260002  164560400.0   \n",
       "2021-03-01  127.930000  122.790001  123.750000  127.790001  116307900.0   \n",
       "2021-03-02  128.720001  125.010002  128.410004  125.120003  102260900.0   \n",
       "2021-03-03  125.709999  121.839996  124.809998  122.059998  112966300.0   \n",
       "2021-03-04  123.599998  118.620003  121.750000  120.129997  178155000.0   \n",
       "...                ...         ...         ...         ...          ...   \n",
       "2022-02-23  166.149994  159.750000  165.539993  160.070007   90009200.0   \n",
       "2022-02-24  162.850006  152.000000  152.580002  162.740005  141147500.0   \n",
       "2022-02-25  165.119995  160.869995  163.839996  164.850006   91974200.0   \n",
       "2022-02-28  165.419998  162.429993  163.059998  165.119995   94869100.0   \n",
       "2022-03-01  166.600006  161.970001  164.699997  163.199997   83474400.0   \n",
       "\n",
       "             Adj Close  \n",
       "Date                    \n",
       "2021-02-26  120.543556  \n",
       "2021-03-01  127.034966  \n",
       "2021-03-02  124.380745  \n",
       "2021-03-03  121.338821  \n",
       "2021-03-04  119.420219  \n",
       "...                ...  \n",
       "2022-02-23  160.070007  \n",
       "2022-02-24  162.740005  \n",
       "2022-02-25  164.850006  \n",
       "2022-02-28  165.119995  \n",
       "2022-03-01  163.199997  \n",
       "\n",
       "[255 rows x 6 columns]"
      ]
     },
     "execution_count": 26,
     "metadata": {},
     "output_type": "execute_result"
    }
   ],
   "source": [
    "aapl\n"
   ]
  },
  {
   "cell_type": "code",
   "execution_count": 27,
   "id": "748bd65a",
   "metadata": {},
   "outputs": [],
   "source": [
    "aapl['Daily Return'] = aapl['Adj Close'].pct_change(1)"
   ]
  },
  {
   "cell_type": "code",
   "execution_count": 28,
   "id": "c6318d3a",
   "metadata": {},
   "outputs": [],
   "source": [
    "aapl.dropna(inplace=True)"
   ]
  },
  {
   "cell_type": "code",
   "execution_count": 29,
   "id": "e32111e8",
   "metadata": {},
   "outputs": [],
   "source": [
    "#Sharpe Ratio Daily Return Std Dev\n",
    "aapl_std_dev_daily_return = aapl['Daily Return'].std()"
   ]
  },
  {
   "cell_type": "code",
   "execution_count": 30,
   "id": "ee1f867a",
   "metadata": {},
   "outputs": [],
   "source": [
    "def compute_sharpe_ratio(df, risk_free_rate=0):\n",
    "    mean_return = df['Daily Return'].mean()\n",
    "    std = df['Daily Return'].std()\n",
    "    sharpe_ratio = (mean_return - risk_free_rate)/std\n",
    "    \n",
    "    annual_sharpe_ratio = sharpe_ratio * (np.sqrt(252))\n",
    "    \n",
    "    return annual_sharpe_ratio"
   ]
  },
  {
   "cell_type": "code",
   "execution_count": 31,
   "id": "c3e10e12",
   "metadata": {},
   "outputs": [
    {
     "data": {
      "text/plain": [
       "1.3339640384203142"
      ]
     },
     "execution_count": 31,
     "metadata": {},
     "output_type": "execute_result"
    }
   ],
   "source": [
    "sharpe_aapl = compute_sharpe_ratio(aapl)\n",
    "sharpe_aapl"
   ]
  },
  {
   "cell_type": "code",
   "execution_count": 32,
   "id": "7cd851fc",
   "metadata": {},
   "outputs": [],
   "source": [
    "def compute_sortino_ratio(df, risk_free_rate=0, threshold=0):\n",
    "    mean_return = df['Daily Return'].mean()\n",
    "    \n",
    "    #Volatility---take into account threshold \n",
    "    #(note the last daily return is to just grab that column)\n",
    "    downside = df[df['Daily Return'] < threshold]['Daily Return']\n",
    "    std = downside.std()\n",
    "    \n",
    "    sortino_ratio = (mean_return - risk_free_rate)/std\n",
    "    annual_sortino_ratio = sortino_ratio * (np.sqrt(252))\n",
    "    \n",
    "    return annual_sortino_ratio"
   ]
  },
  {
   "cell_type": "code",
   "execution_count": 33,
   "id": "26824559",
   "metadata": {},
   "outputs": [
    {
     "data": {
      "text/plain": [
       "2.2492363203998487"
      ]
     },
     "execution_count": 33,
     "metadata": {},
     "output_type": "execute_result"
    }
   ],
   "source": [
    "sortino_aapl = compute_sortino_ratio(aapl)\n",
    "sortino_aapl"
   ]
  },
  {
   "cell_type": "markdown",
   "id": "9d173e35",
   "metadata": {},
   "source": [
    "Remember the larger the Sharpe or Sortino the better. Apple shows a higher Sortino so it means it has more volatility upwards......Good"
   ]
  }
 ],
 "metadata": {
  "kernelspec": {
   "display_name": "Python 3 (ipykernel)",
   "language": "python",
   "name": "python3"
  },
  "language_info": {
   "codemirror_mode": {
    "name": "ipython",
    "version": 3
   },
   "file_extension": ".py",
   "mimetype": "text/x-python",
   "name": "python",
   "nbconvert_exporter": "python",
   "pygments_lexer": "ipython3",
   "version": "3.9.7"
  }
 },
 "nbformat": 4,
 "nbformat_minor": 5
}
