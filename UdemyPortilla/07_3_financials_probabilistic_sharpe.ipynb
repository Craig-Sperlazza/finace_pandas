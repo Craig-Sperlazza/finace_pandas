{
 "cells": [
  {
   "cell_type": "markdown",
   "id": "d7c29b19",
   "metadata": {},
   "source": [
    "Probabilistic Sharpe Ratio: Marcus Lopez de Prado. \n",
    "\n",
    "Kurtosis: Measure of the \"tailedness\" of the probability distribution of a real-valued random variable.\n",
    "\n",
    "Positive Kurtosis: Peak is narrower and higher than normal dist\n",
    "Negative Kurtosis: Peak is flater and lower than normal dist\n",
    "\n",
    "Skew: measure of asymetry of the probability distribution of a real-valued random variable\n",
    "symetrical dist, positive skew (skewed right), negative skew(skewed left)\n",
    "google image search this\n",
    "\n",
    "Probabilistc sharpe ratio uses skew and kurtosis to return a Sharpe Ratio in probability terms (not just historical)\n",
    "\n",
    "\n"
   ]
  },
  {
   "cell_type": "code",
   "execution_count": 15,
   "id": "0d0a38df",
   "metadata": {},
   "outputs": [],
   "source": [
    "import pandas_datareader as pdr\n",
    "import datetime as dt\n",
    "import scipy.stats\n",
    "import numpy as np\n"
   ]
  },
  {
   "cell_type": "code",
   "execution_count": 16,
   "id": "0dc58a6f",
   "metadata": {},
   "outputs": [],
   "source": [
    "ticker = \"MSFT\"\n",
    "start = dt.datetime(2021, 2, 26)\n",
    "end = dt.datetime(2022, 3, 1)\n",
    "msft = pdr.get_data_yahoo(ticker, start, end)"
   ]
  },
  {
   "cell_type": "code",
   "execution_count": 17,
   "id": "96ddf7b8",
   "metadata": {},
   "outputs": [],
   "source": [
    "msft['Daily Return'] = msft['Adj Close'].pct_change(1)\n",
    "#drop the first row\n",
    "msft.dropna(inplace=True)"
   ]
  },
  {
   "cell_type": "code",
   "execution_count": 18,
   "id": "d17417e1",
   "metadata": {},
   "outputs": [
    {
     "data": {
      "text/html": [
       "<div>\n",
       "<style scoped>\n",
       "    .dataframe tbody tr th:only-of-type {\n",
       "        vertical-align: middle;\n",
       "    }\n",
       "\n",
       "    .dataframe tbody tr th {\n",
       "        vertical-align: top;\n",
       "    }\n",
       "\n",
       "    .dataframe thead th {\n",
       "        text-align: right;\n",
       "    }\n",
       "</style>\n",
       "<table border=\"1\" class=\"dataframe\">\n",
       "  <thead>\n",
       "    <tr style=\"text-align: right;\">\n",
       "      <th></th>\n",
       "      <th>High</th>\n",
       "      <th>Low</th>\n",
       "      <th>Open</th>\n",
       "      <th>Close</th>\n",
       "      <th>Volume</th>\n",
       "      <th>Adj Close</th>\n",
       "      <th>Daily Return</th>\n",
       "    </tr>\n",
       "    <tr>\n",
       "      <th>Date</th>\n",
       "      <th></th>\n",
       "      <th></th>\n",
       "      <th></th>\n",
       "      <th></th>\n",
       "      <th></th>\n",
       "      <th></th>\n",
       "      <th></th>\n",
       "    </tr>\n",
       "  </thead>\n",
       "  <tbody>\n",
       "    <tr>\n",
       "      <th>2021-03-01</th>\n",
       "      <td>237.470001</td>\n",
       "      <td>233.149994</td>\n",
       "      <td>235.899994</td>\n",
       "      <td>236.940002</td>\n",
       "      <td>25324000.0</td>\n",
       "      <td>235.025620</td>\n",
       "      <td>0.019623</td>\n",
       "    </tr>\n",
       "    <tr>\n",
       "      <th>2021-03-02</th>\n",
       "      <td>237.300003</td>\n",
       "      <td>233.449997</td>\n",
       "      <td>237.009995</td>\n",
       "      <td>233.869995</td>\n",
       "      <td>22812500.0</td>\n",
       "      <td>231.980423</td>\n",
       "      <td>-0.012957</td>\n",
       "    </tr>\n",
       "    <tr>\n",
       "      <th>2021-03-03</th>\n",
       "      <td>233.580002</td>\n",
       "      <td>227.259995</td>\n",
       "      <td>232.160004</td>\n",
       "      <td>227.559998</td>\n",
       "      <td>34029500.0</td>\n",
       "      <td>225.721405</td>\n",
       "      <td>-0.026981</td>\n",
       "    </tr>\n",
       "    <tr>\n",
       "      <th>2021-03-04</th>\n",
       "      <td>232.490005</td>\n",
       "      <td>224.259995</td>\n",
       "      <td>226.740005</td>\n",
       "      <td>226.729996</td>\n",
       "      <td>44727800.0</td>\n",
       "      <td>224.898102</td>\n",
       "      <td>-0.003647</td>\n",
       "    </tr>\n",
       "    <tr>\n",
       "      <th>2021-03-05</th>\n",
       "      <td>233.270004</td>\n",
       "      <td>226.460007</td>\n",
       "      <td>229.520004</td>\n",
       "      <td>231.600006</td>\n",
       "      <td>41872800.0</td>\n",
       "      <td>229.728760</td>\n",
       "      <td>0.021479</td>\n",
       "    </tr>\n",
       "    <tr>\n",
       "      <th>...</th>\n",
       "      <td>...</td>\n",
       "      <td>...</td>\n",
       "      <td>...</td>\n",
       "      <td>...</td>\n",
       "      <td>...</td>\n",
       "      <td>...</td>\n",
       "      <td>...</td>\n",
       "    </tr>\n",
       "    <tr>\n",
       "      <th>2022-02-23</th>\n",
       "      <td>291.700012</td>\n",
       "      <td>280.100006</td>\n",
       "      <td>290.179993</td>\n",
       "      <td>280.269989</td>\n",
       "      <td>37811200.0</td>\n",
       "      <td>280.269989</td>\n",
       "      <td>-0.025893</td>\n",
       "    </tr>\n",
       "    <tr>\n",
       "      <th>2022-02-24</th>\n",
       "      <td>295.160004</td>\n",
       "      <td>271.519989</td>\n",
       "      <td>272.510010</td>\n",
       "      <td>294.589996</td>\n",
       "      <td>56989700.0</td>\n",
       "      <td>294.589996</td>\n",
       "      <td>0.051094</td>\n",
       "    </tr>\n",
       "    <tr>\n",
       "      <th>2022-02-25</th>\n",
       "      <td>297.630005</td>\n",
       "      <td>291.649994</td>\n",
       "      <td>295.140015</td>\n",
       "      <td>297.309998</td>\n",
       "      <td>32546700.0</td>\n",
       "      <td>297.309998</td>\n",
       "      <td>0.009233</td>\n",
       "    </tr>\n",
       "    <tr>\n",
       "      <th>2022-02-28</th>\n",
       "      <td>299.140015</td>\n",
       "      <td>293.000000</td>\n",
       "      <td>294.309998</td>\n",
       "      <td>298.790009</td>\n",
       "      <td>34585700.0</td>\n",
       "      <td>298.790009</td>\n",
       "      <td>0.004978</td>\n",
       "    </tr>\n",
       "    <tr>\n",
       "      <th>2022-03-01</th>\n",
       "      <td>299.970001</td>\n",
       "      <td>292.149994</td>\n",
       "      <td>296.399994</td>\n",
       "      <td>294.950012</td>\n",
       "      <td>31217800.0</td>\n",
       "      <td>294.950012</td>\n",
       "      <td>-0.012852</td>\n",
       "    </tr>\n",
       "  </tbody>\n",
       "</table>\n",
       "<p>254 rows × 7 columns</p>\n",
       "</div>"
      ],
      "text/plain": [
       "                  High         Low        Open       Close      Volume  \\\n",
       "Date                                                                     \n",
       "2021-03-01  237.470001  233.149994  235.899994  236.940002  25324000.0   \n",
       "2021-03-02  237.300003  233.449997  237.009995  233.869995  22812500.0   \n",
       "2021-03-03  233.580002  227.259995  232.160004  227.559998  34029500.0   \n",
       "2021-03-04  232.490005  224.259995  226.740005  226.729996  44727800.0   \n",
       "2021-03-05  233.270004  226.460007  229.520004  231.600006  41872800.0   \n",
       "...                ...         ...         ...         ...         ...   \n",
       "2022-02-23  291.700012  280.100006  290.179993  280.269989  37811200.0   \n",
       "2022-02-24  295.160004  271.519989  272.510010  294.589996  56989700.0   \n",
       "2022-02-25  297.630005  291.649994  295.140015  297.309998  32546700.0   \n",
       "2022-02-28  299.140015  293.000000  294.309998  298.790009  34585700.0   \n",
       "2022-03-01  299.970001  292.149994  296.399994  294.950012  31217800.0   \n",
       "\n",
       "             Adj Close  Daily Return  \n",
       "Date                                  \n",
       "2021-03-01  235.025620      0.019623  \n",
       "2021-03-02  231.980423     -0.012957  \n",
       "2021-03-03  225.721405     -0.026981  \n",
       "2021-03-04  224.898102     -0.003647  \n",
       "2021-03-05  229.728760      0.021479  \n",
       "...                ...           ...  \n",
       "2022-02-23  280.269989     -0.025893  \n",
       "2022-02-24  294.589996      0.051094  \n",
       "2022-02-25  297.309998      0.009233  \n",
       "2022-02-28  298.790009      0.004978  \n",
       "2022-03-01  294.950012     -0.012852  \n",
       "\n",
       "[254 rows x 7 columns]"
      ]
     },
     "execution_count": 18,
     "metadata": {},
     "output_type": "execute_result"
    }
   ],
   "source": [
    "msft"
   ]
  },
  {
   "cell_type": "code",
   "execution_count": 19,
   "id": "28f10082",
   "metadata": {},
   "outputs": [
    {
     "data": {
      "text/plain": [
       "0.01434722038539185"
      ]
     },
     "execution_count": 19,
     "metadata": {},
     "output_type": "execute_result"
    }
   ],
   "source": [
    "msft_return_std_dev = msft['Daily Return'].std()\n",
    "msft_return_std_dev"
   ]
  },
  {
   "cell_type": "code",
   "execution_count": 22,
   "id": "5df5ce8f",
   "metadata": {},
   "outputs": [],
   "source": [
    "def compute_sharpe_ratio_annual(df, risk_free_rate=0):\n",
    "    \"\"\" (daily return mean - risk free rate) / by daily return std dev\"\"\"\n",
    "    std = df['Daily Return'].std()\n",
    "    mean = df['Daily Return'].mean()\n",
    "    sharpe_ratio = (mean - risk_free_rate) / std\n",
    "    #annualize it by 252 trading days\n",
    "    annual_sharpe_ratio = sharpe_ratio * np.sqrt(252)\n",
    "    return annual_sharpe_ratio"
   ]
  },
  {
   "cell_type": "code",
   "execution_count": 25,
   "id": "ef27489b",
   "metadata": {},
   "outputs": [
    {
     "data": {
      "text/plain": [
       "1.1879948423698579"
      ]
     },
     "execution_count": 25,
     "metadata": {},
     "output_type": "execute_result"
    }
   ],
   "source": [
    "sharpe_ratio_msft_ann = compute_sharpe_ratio_annual(msft)\n",
    "sharpe_ratio_msft_ann"
   ]
  },
  {
   "cell_type": "code",
   "execution_count": 26,
   "id": "20e3fff9",
   "metadata": {},
   "outputs": [],
   "source": [
    "#for our calculation it is simpler to do daily----jsut put it there for completness.\n",
    "def compute_sharpe_ratio(df, risk_free_rate=0):\n",
    "    \"\"\" (daily return mean - risk free rate) / by daily return std dev\"\"\"\n",
    "    std = df['Daily Return'].std()\n",
    "    mean = df['Daily Return'].mean()\n",
    "    sharpe_ratio = (mean - risk_free_rate) / std\n",
    "    return sharpe_ratio"
   ]
  },
  {
   "cell_type": "code",
   "execution_count": 27,
   "id": "0b334057",
   "metadata": {},
   "outputs": [
    {
     "data": {
      "text/plain": [
       "0.07483664075566722"
      ]
     },
     "execution_count": 27,
     "metadata": {},
     "output_type": "execute_result"
    }
   ],
   "source": [
    "sharpe_ratio_msft = compute_sharpe_ratio(msft)\n",
    "sharpe_ratio_msft"
   ]
  },
  {
   "cell_type": "code",
   "execution_count": 30,
   "id": "ccb49763",
   "metadata": {},
   "outputs": [],
   "source": [
    "def compute_prob_sharpe_ratio(df, benchmark=0):\n",
    "    sr = compute_sharpe_ratio(df)\n",
    "    skew = scipy.stats.skew(df['Daily Return'])\n",
    "    kurtosis = scipy.stats.kurtosis(df['Daily Return'], fisher=True)\n",
    "    n = len(df)\n",
    "    \n",
    "    std = ( (1 / (n-1)) * (1 + 0.5 * sr**2 - skew * sr + (kurtosis / 4) * sr**2))**0.5\n",
    "    \n",
    "    ratio = (sr - benchmark) / std\n",
    "    prob_sharpe_ratio = scipy.stats.norm.cdf(ratio)\n",
    "    return prob_sharpe_ratio\n",
    "\n",
    "\n",
    "\n",
    "\n"
   ]
  },
  {
   "cell_type": "code",
   "execution_count": 33,
   "id": "eeb7fa5a",
   "metadata": {},
   "outputs": [
    {
     "name": "stdout",
     "output_type": "stream",
     "text": [
      "The daily probabilistic sharpe ratio for Microsoft is: 0.8813601262633288\n",
      "The annualized probabilistic sharpe ratio for Microsoft is: 13.991158257487532\n"
     ]
    }
   ],
   "source": [
    "sr_microsoft = compute_prob_sharpe_ratio(msft)\n",
    "\n",
    "print(f\"The daily probabilistic sharpe ratio for Microsoft is: {sr_microsoft}\")\n",
    "annual = sr_microsoft*(252**0.5)\n",
    "print(f\"The annualized probabilistic sharpe ratio for Microsoft is: {annual}\")"
   ]
  },
  {
   "cell_type": "code",
   "execution_count": null,
   "id": "8116801f",
   "metadata": {},
   "outputs": [],
   "source": []
  }
 ],
 "metadata": {
  "kernelspec": {
   "display_name": "Python 3 (ipykernel)",
   "language": "python",
   "name": "python3"
  },
  "language_info": {
   "codemirror_mode": {
    "name": "ipython",
    "version": 3
   },
   "file_extension": ".py",
   "mimetype": "text/x-python",
   "name": "python",
   "nbconvert_exporter": "python",
   "pygments_lexer": "ipython3",
   "version": "3.9.7"
  }
 },
 "nbformat": 4,
 "nbformat_minor": 5
}
