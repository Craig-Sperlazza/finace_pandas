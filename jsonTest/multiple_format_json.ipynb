{
 "cells": [
  {
   "cell_type": "markdown",
   "id": "aafc6707",
   "metadata": {},
   "source": [
    "#https://www.statology.org/json-to-pandas-dataframe/\n",
    "\n",
    "Multiple Formats:\n",
    "records, index, columns, values"
   ]
  },
  {
   "cell_type": "code",
   "execution_count": 2,
   "id": "1fed4fa5",
   "metadata": {},
   "outputs": [],
   "source": [
    "import pandas as pd"
   ]
  },
  {
   "cell_type": "markdown",
   "id": "9324e111",
   "metadata": {},
   "source": [
    "#Records Format\n",
    "[\n",
    "   {\n",
    "      \"points\": 25,\n",
    "      \"assists\": 5\n",
    "   },\n",
    "   {\n",
    "      \"points\": 12,\n",
    "      \"assists\": 7\n",
    "   },\n",
    "   {\n",
    "      \"points\": 15,\n",
    "      \"assists\": 7\n",
    "   },\n",
    "   {\n",
    "      \"points\": 19,\n",
    "      \"assists\": 12\n",
    "   }\n",
    "] "
   ]
  },
  {
   "cell_type": "code",
   "execution_count": 5,
   "id": "33bb6892",
   "metadata": {},
   "outputs": [],
   "source": [
    "df_records = pd.read_json('/home/craig/Documents/python_finance/jsonTest/records_format.json', orient='records')"
   ]
  },
  {
   "cell_type": "code",
   "execution_count": 6,
   "id": "b3df21c8",
   "metadata": {},
   "outputs": [
    {
     "data": {
      "text/html": [
       "<div>\n",
       "<style scoped>\n",
       "    .dataframe tbody tr th:only-of-type {\n",
       "        vertical-align: middle;\n",
       "    }\n",
       "\n",
       "    .dataframe tbody tr th {\n",
       "        vertical-align: top;\n",
       "    }\n",
       "\n",
       "    .dataframe thead th {\n",
       "        text-align: right;\n",
       "    }\n",
       "</style>\n",
       "<table border=\"1\" class=\"dataframe\">\n",
       "  <thead>\n",
       "    <tr style=\"text-align: right;\">\n",
       "      <th></th>\n",
       "      <th>points</th>\n",
       "      <th>assists</th>\n",
       "    </tr>\n",
       "  </thead>\n",
       "  <tbody>\n",
       "    <tr>\n",
       "      <th>0</th>\n",
       "      <td>25</td>\n",
       "      <td>5</td>\n",
       "    </tr>\n",
       "    <tr>\n",
       "      <th>1</th>\n",
       "      <td>12</td>\n",
       "      <td>7</td>\n",
       "    </tr>\n",
       "    <tr>\n",
       "      <th>2</th>\n",
       "      <td>15</td>\n",
       "      <td>7</td>\n",
       "    </tr>\n",
       "    <tr>\n",
       "      <th>3</th>\n",
       "      <td>19</td>\n",
       "      <td>12</td>\n",
       "    </tr>\n",
       "  </tbody>\n",
       "</table>\n",
       "</div>"
      ],
      "text/plain": [
       "   points  assists\n",
       "0      25        5\n",
       "1      12        7\n",
       "2      15        7\n",
       "3      19       12"
      ]
     },
     "execution_count": 6,
     "metadata": {},
     "output_type": "execute_result"
    }
   ],
   "source": [
    "df_records"
   ]
  },
  {
   "cell_type": "markdown",
   "id": "9a2071d1",
   "metadata": {},
   "source": [
    "#Index Format\n",
    "{\n",
    "   \"0\": {\n",
    "      \"points\": 25,\n",
    "      \"assists\": 5\n",
    "   },\n",
    "   \"1\": {\n",
    "      \"points\": 12,\n",
    "      \"assists\": 7\n",
    "   },\n",
    "   \"2\": {\n",
    "      \"points\": 15,\n",
    "      \"assists\": 7\n",
    "   },\n",
    "   \"3\": {\n",
    "      \"points\": 19,\n",
    "      \"assists\": 12\n",
    "   }\n",
    "} "
   ]
  },
  {
   "cell_type": "code",
   "execution_count": 8,
   "id": "b431125d",
   "metadata": {},
   "outputs": [],
   "source": [
    "df_index = pd.read_json('/home/craig/Documents/python_finance/jsonTest/index_format.json', orient='index')"
   ]
  },
  {
   "cell_type": "code",
   "execution_count": 9,
   "id": "546d4823",
   "metadata": {},
   "outputs": [
    {
     "data": {
      "text/html": [
       "<div>\n",
       "<style scoped>\n",
       "    .dataframe tbody tr th:only-of-type {\n",
       "        vertical-align: middle;\n",
       "    }\n",
       "\n",
       "    .dataframe tbody tr th {\n",
       "        vertical-align: top;\n",
       "    }\n",
       "\n",
       "    .dataframe thead th {\n",
       "        text-align: right;\n",
       "    }\n",
       "</style>\n",
       "<table border=\"1\" class=\"dataframe\">\n",
       "  <thead>\n",
       "    <tr style=\"text-align: right;\">\n",
       "      <th></th>\n",
       "      <th>points</th>\n",
       "      <th>assists</th>\n",
       "    </tr>\n",
       "  </thead>\n",
       "  <tbody>\n",
       "    <tr>\n",
       "      <th>0</th>\n",
       "      <td>25</td>\n",
       "      <td>5</td>\n",
       "    </tr>\n",
       "    <tr>\n",
       "      <th>1</th>\n",
       "      <td>12</td>\n",
       "      <td>7</td>\n",
       "    </tr>\n",
       "    <tr>\n",
       "      <th>2</th>\n",
       "      <td>15</td>\n",
       "      <td>7</td>\n",
       "    </tr>\n",
       "    <tr>\n",
       "      <th>3</th>\n",
       "      <td>19</td>\n",
       "      <td>12</td>\n",
       "    </tr>\n",
       "  </tbody>\n",
       "</table>\n",
       "</div>"
      ],
      "text/plain": [
       "   points  assists\n",
       "0      25        5\n",
       "1      12        7\n",
       "2      15        7\n",
       "3      19       12"
      ]
     },
     "execution_count": 9,
     "metadata": {},
     "output_type": "execute_result"
    }
   ],
   "source": [
    "df_index"
   ]
  },
  {
   "cell_type": "markdown",
   "id": "4df55e80",
   "metadata": {},
   "source": [
    "#columns format\n",
    "{\n",
    "   \"points\": {\n",
    "      \"0\": 25,\n",
    "      \"1\": 12,\n",
    "      \"2\": 15,\n",
    "      \"3\": 19\n",
    "   },\n",
    "   \"assists\": {\n",
    "      \"0\": 5,\n",
    "      \"1\": 7,\n",
    "      \"2\": 7,\n",
    "      \"3\": 12\n",
    "   }\n",
    "} "
   ]
  },
  {
   "cell_type": "code",
   "execution_count": 10,
   "id": "02f8f8cc",
   "metadata": {},
   "outputs": [],
   "source": [
    "df_columns = pd.read_json('/home/craig/Documents/python_finance/jsonTest/columns_format.json', orient='columns')"
   ]
  },
  {
   "cell_type": "code",
   "execution_count": 11,
   "id": "355f04ff",
   "metadata": {},
   "outputs": [
    {
     "data": {
      "text/html": [
       "<div>\n",
       "<style scoped>\n",
       "    .dataframe tbody tr th:only-of-type {\n",
       "        vertical-align: middle;\n",
       "    }\n",
       "\n",
       "    .dataframe tbody tr th {\n",
       "        vertical-align: top;\n",
       "    }\n",
       "\n",
       "    .dataframe thead th {\n",
       "        text-align: right;\n",
       "    }\n",
       "</style>\n",
       "<table border=\"1\" class=\"dataframe\">\n",
       "  <thead>\n",
       "    <tr style=\"text-align: right;\">\n",
       "      <th></th>\n",
       "      <th>points</th>\n",
       "      <th>assists</th>\n",
       "    </tr>\n",
       "  </thead>\n",
       "  <tbody>\n",
       "    <tr>\n",
       "      <th>0</th>\n",
       "      <td>25</td>\n",
       "      <td>5</td>\n",
       "    </tr>\n",
       "    <tr>\n",
       "      <th>1</th>\n",
       "      <td>12</td>\n",
       "      <td>7</td>\n",
       "    </tr>\n",
       "    <tr>\n",
       "      <th>2</th>\n",
       "      <td>15</td>\n",
       "      <td>7</td>\n",
       "    </tr>\n",
       "    <tr>\n",
       "      <th>3</th>\n",
       "      <td>19</td>\n",
       "      <td>12</td>\n",
       "    </tr>\n",
       "  </tbody>\n",
       "</table>\n",
       "</div>"
      ],
      "text/plain": [
       "   points  assists\n",
       "0      25        5\n",
       "1      12        7\n",
       "2      15        7\n",
       "3      19       12"
      ]
     },
     "execution_count": 11,
     "metadata": {},
     "output_type": "execute_result"
    }
   ],
   "source": [
    "df_columns"
   ]
  },
  {
   "cell_type": "markdown",
   "id": "e552b757",
   "metadata": {},
   "source": [
    "Values format\n",
    "[\n",
    "   [\n",
    "      25,\n",
    "      5\n",
    "   ],\n",
    "   [\n",
    "      12,\n",
    "      7\n",
    "   ],\n",
    "   [\n",
    "      15,\n",
    "      7\n",
    "   ],\n",
    "   [\n",
    "      19,\n",
    "      12\n",
    "   ]\n",
    "] "
   ]
  },
  {
   "cell_type": "code",
   "execution_count": 12,
   "id": "508f4fbb",
   "metadata": {},
   "outputs": [],
   "source": [
    "df_values = pd.read_json('/home/craig/Documents/python_finance/jsonTest/values_format.json', orient='values')"
   ]
  },
  {
   "cell_type": "code",
   "execution_count": 13,
   "id": "9dab7bb9",
   "metadata": {},
   "outputs": [
    {
     "data": {
      "text/html": [
       "<div>\n",
       "<style scoped>\n",
       "    .dataframe tbody tr th:only-of-type {\n",
       "        vertical-align: middle;\n",
       "    }\n",
       "\n",
       "    .dataframe tbody tr th {\n",
       "        vertical-align: top;\n",
       "    }\n",
       "\n",
       "    .dataframe thead th {\n",
       "        text-align: right;\n",
       "    }\n",
       "</style>\n",
       "<table border=\"1\" class=\"dataframe\">\n",
       "  <thead>\n",
       "    <tr style=\"text-align: right;\">\n",
       "      <th></th>\n",
       "      <th>0</th>\n",
       "      <th>1</th>\n",
       "    </tr>\n",
       "  </thead>\n",
       "  <tbody>\n",
       "    <tr>\n",
       "      <th>0</th>\n",
       "      <td>25</td>\n",
       "      <td>5</td>\n",
       "    </tr>\n",
       "    <tr>\n",
       "      <th>1</th>\n",
       "      <td>12</td>\n",
       "      <td>7</td>\n",
       "    </tr>\n",
       "    <tr>\n",
       "      <th>2</th>\n",
       "      <td>15</td>\n",
       "      <td>7</td>\n",
       "    </tr>\n",
       "    <tr>\n",
       "      <th>3</th>\n",
       "      <td>19</td>\n",
       "      <td>12</td>\n",
       "    </tr>\n",
       "  </tbody>\n",
       "</table>\n",
       "</div>"
      ],
      "text/plain": [
       "    0   1\n",
       "0  25   5\n",
       "1  12   7\n",
       "2  15   7\n",
       "3  19  12"
      ]
     },
     "execution_count": 13,
     "metadata": {},
     "output_type": "execute_result"
    }
   ],
   "source": [
    "df_values"
   ]
  },
  {
   "cell_type": "code",
   "execution_count": null,
   "id": "7a7a5981",
   "metadata": {},
   "outputs": [],
   "source": []
  }
 ],
 "metadata": {
  "kernelspec": {
   "display_name": "Python 3 (ipykernel)",
   "language": "python",
   "name": "python3"
  },
  "language_info": {
   "codemirror_mode": {
    "name": "ipython",
    "version": 3
   },
   "file_extension": ".py",
   "mimetype": "text/x-python",
   "name": "python",
   "nbconvert_exporter": "python",
   "pygments_lexer": "ipython3",
   "version": "3.9.7"
  }
 },
 "nbformat": 4,
 "nbformat_minor": 5
}
