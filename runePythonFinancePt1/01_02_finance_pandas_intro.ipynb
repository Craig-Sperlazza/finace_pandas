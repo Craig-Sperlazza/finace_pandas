{
 "cells": [
  {
   "cell_type": "markdown",
   "id": "8142c594",
   "metadata": {},
   "source": [
    "https://www.youtube.com/watch?v=m8ahf_c9hEc"
   ]
  },
  {
   "cell_type": "code",
   "execution_count": 14,
   "id": "9628c9c6",
   "metadata": {},
   "outputs": [],
   "source": [
    "import numpy as np\n",
    "import pandas as pd"
   ]
  },
  {
   "cell_type": "code",
   "execution_count": 15,
   "id": "31cc5ebf",
   "metadata": {},
   "outputs": [],
   "source": [
    "#set the index to the date and change the date from a string object to a datetime object\n",
    "df = pd.read_csv(\"./data/NFLX.csv\", index_col=[\"Date\"], parse_dates=True)"
   ]
  },
  {
   "cell_type": "code",
   "execution_count": 16,
   "id": "57bdade3",
   "metadata": {},
   "outputs": [
    {
     "data": {
      "text/html": [
       "<div>\n",
       "<style scoped>\n",
       "    .dataframe tbody tr th:only-of-type {\n",
       "        vertical-align: middle;\n",
       "    }\n",
       "\n",
       "    .dataframe tbody tr th {\n",
       "        vertical-align: top;\n",
       "    }\n",
       "\n",
       "    .dataframe thead th {\n",
       "        text-align: right;\n",
       "    }\n",
       "</style>\n",
       "<table border=\"1\" class=\"dataframe\">\n",
       "  <thead>\n",
       "    <tr style=\"text-align: right;\">\n",
       "      <th></th>\n",
       "      <th>Open</th>\n",
       "      <th>High</th>\n",
       "      <th>Low</th>\n",
       "      <th>Close</th>\n",
       "      <th>Adj Close</th>\n",
       "      <th>Volume</th>\n",
       "    </tr>\n",
       "    <tr>\n",
       "      <th>Date</th>\n",
       "      <th></th>\n",
       "      <th></th>\n",
       "      <th></th>\n",
       "      <th></th>\n",
       "      <th></th>\n",
       "      <th></th>\n",
       "    </tr>\n",
       "  </thead>\n",
       "  <tbody>\n",
       "    <tr>\n",
       "      <th>2021-02-11</th>\n",
       "      <td>564.440002</td>\n",
       "      <td>565.929993</td>\n",
       "      <td>554.219971</td>\n",
       "      <td>557.590027</td>\n",
       "      <td>557.590027</td>\n",
       "      <td>2730600</td>\n",
       "    </tr>\n",
       "    <tr>\n",
       "      <th>2021-02-12</th>\n",
       "      <td>556.940002</td>\n",
       "      <td>561.250000</td>\n",
       "      <td>550.849976</td>\n",
       "      <td>556.520020</td>\n",
       "      <td>556.520020</td>\n",
       "      <td>2197100</td>\n",
       "    </tr>\n",
       "    <tr>\n",
       "      <th>2021-02-16</th>\n",
       "      <td>557.289978</td>\n",
       "      <td>563.630005</td>\n",
       "      <td>552.729980</td>\n",
       "      <td>557.280029</td>\n",
       "      <td>557.280029</td>\n",
       "      <td>2624100</td>\n",
       "    </tr>\n",
       "    <tr>\n",
       "      <th>2021-02-17</th>\n",
       "      <td>550.989990</td>\n",
       "      <td>555.250000</td>\n",
       "      <td>543.030029</td>\n",
       "      <td>551.340027</td>\n",
       "      <td>551.340027</td>\n",
       "      <td>2069600</td>\n",
       "    </tr>\n",
       "    <tr>\n",
       "      <th>2021-02-18</th>\n",
       "      <td>549.000000</td>\n",
       "      <td>550.000000</td>\n",
       "      <td>538.229980</td>\n",
       "      <td>548.219971</td>\n",
       "      <td>548.219971</td>\n",
       "      <td>2456200</td>\n",
       "    </tr>\n",
       "  </tbody>\n",
       "</table>\n",
       "</div>"
      ],
      "text/plain": [
       "                  Open        High         Low       Close   Adj Close  \\\n",
       "Date                                                                     \n",
       "2021-02-11  564.440002  565.929993  554.219971  557.590027  557.590027   \n",
       "2021-02-12  556.940002  561.250000  550.849976  556.520020  556.520020   \n",
       "2021-02-16  557.289978  563.630005  552.729980  557.280029  557.280029   \n",
       "2021-02-17  550.989990  555.250000  543.030029  551.340027  551.340027   \n",
       "2021-02-18  549.000000  550.000000  538.229980  548.219971  548.219971   \n",
       "\n",
       "             Volume  \n",
       "Date                 \n",
       "2021-02-11  2730600  \n",
       "2021-02-12  2197100  \n",
       "2021-02-16  2624100  \n",
       "2021-02-17  2069600  \n",
       "2021-02-18  2456200  "
      ]
     },
     "execution_count": 16,
     "metadata": {},
     "output_type": "execute_result"
    }
   ],
   "source": [
    "df.head()"
   ]
  },
  {
   "cell_type": "code",
   "execution_count": 17,
   "id": "45dac86b",
   "metadata": {},
   "outputs": [
    {
     "data": {
      "text/plain": [
       "Open         float64\n",
       "High         float64\n",
       "Low          float64\n",
       "Close        float64\n",
       "Adj Close    float64\n",
       "Volume         int64\n",
       "dtype: object"
      ]
     },
     "execution_count": 17,
     "metadata": {},
     "output_type": "execute_result"
    }
   ],
   "source": [
    "df.dtypes"
   ]
  },
  {
   "cell_type": "code",
   "execution_count": 18,
   "id": "da9117d2",
   "metadata": {},
   "outputs": [
    {
     "data": {
      "text/plain": [
       "DatetimeIndex(['2021-02-11', '2021-02-12', '2021-02-16', '2021-02-17',\n",
       "               '2021-02-18', '2021-02-19', '2021-02-22', '2021-02-23',\n",
       "               '2021-02-24', '2021-02-25',\n",
       "               ...\n",
       "               '2022-01-31', '2022-02-01', '2022-02-02', '2022-02-03',\n",
       "               '2022-02-04', '2022-02-07', '2022-02-08', '2022-02-09',\n",
       "               '2022-02-10', '2022-02-11'],\n",
       "              dtype='datetime64[ns]', name='Date', length=254, freq=None)"
      ]
     },
     "execution_count": 18,
     "metadata": {},
     "output_type": "execute_result"
    }
   ],
   "source": [
    "df.index"
   ]
  },
  {
   "cell_type": "code",
   "execution_count": 19,
   "id": "4558ae0a",
   "metadata": {},
   "outputs": [
    {
     "data": {
      "text/html": [
       "<div>\n",
       "<style scoped>\n",
       "    .dataframe tbody tr th:only-of-type {\n",
       "        vertical-align: middle;\n",
       "    }\n",
       "\n",
       "    .dataframe tbody tr th {\n",
       "        vertical-align: top;\n",
       "    }\n",
       "\n",
       "    .dataframe thead th {\n",
       "        text-align: right;\n",
       "    }\n",
       "</style>\n",
       "<table border=\"1\" class=\"dataframe\">\n",
       "  <thead>\n",
       "    <tr style=\"text-align: right;\">\n",
       "      <th></th>\n",
       "      <th>Open</th>\n",
       "      <th>High</th>\n",
       "      <th>Low</th>\n",
       "      <th>Close</th>\n",
       "      <th>Adj Close</th>\n",
       "      <th>Volume</th>\n",
       "    </tr>\n",
       "  </thead>\n",
       "  <tbody>\n",
       "    <tr>\n",
       "      <th>count</th>\n",
       "      <td>254.000000</td>\n",
       "      <td>254.000000</td>\n",
       "      <td>254.000000</td>\n",
       "      <td>254.000000</td>\n",
       "      <td>254.000000</td>\n",
       "      <td>2.540000e+02</td>\n",
       "    </tr>\n",
       "    <tr>\n",
       "      <th>mean</th>\n",
       "      <td>550.637755</td>\n",
       "      <td>557.181378</td>\n",
       "      <td>543.245631</td>\n",
       "      <td>550.172913</td>\n",
       "      <td>550.172913</td>\n",
       "      <td>4.520564e+06</td>\n",
       "    </tr>\n",
       "    <tr>\n",
       "      <th>std</th>\n",
       "      <td>67.568468</td>\n",
       "      <td>67.838776</td>\n",
       "      <td>67.440765</td>\n",
       "      <td>67.318396</td>\n",
       "      <td>67.318396</td>\n",
       "      <td>5.003717e+06</td>\n",
       "    </tr>\n",
       "    <tr>\n",
       "      <th>min</th>\n",
       "      <td>378.269989</td>\n",
       "      <td>382.660004</td>\n",
       "      <td>351.459991</td>\n",
       "      <td>359.700012</td>\n",
       "      <td>359.700012</td>\n",
       "      <td>1.287200e+06</td>\n",
       "    </tr>\n",
       "    <tr>\n",
       "      <th>25%</th>\n",
       "      <td>510.577507</td>\n",
       "      <td>514.777496</td>\n",
       "      <td>503.950004</td>\n",
       "      <td>509.027496</td>\n",
       "      <td>509.027496</td>\n",
       "      <td>2.616300e+06</td>\n",
       "    </tr>\n",
       "    <tr>\n",
       "      <th>50%</th>\n",
       "      <td>539.904999</td>\n",
       "      <td>544.455017</td>\n",
       "      <td>531.224976</td>\n",
       "      <td>539.934998</td>\n",
       "      <td>539.934998</td>\n",
       "      <td>3.261400e+06</td>\n",
       "    </tr>\n",
       "    <tr>\n",
       "      <th>75%</th>\n",
       "      <td>598.675018</td>\n",
       "      <td>609.447510</td>\n",
       "      <td>592.892487</td>\n",
       "      <td>598.974991</td>\n",
       "      <td>598.974991</td>\n",
       "      <td>4.398425e+06</td>\n",
       "    </tr>\n",
       "    <tr>\n",
       "      <th>max</th>\n",
       "      <td>692.349976</td>\n",
       "      <td>700.989990</td>\n",
       "      <td>686.090027</td>\n",
       "      <td>691.690002</td>\n",
       "      <td>691.690002</td>\n",
       "      <td>5.890430e+07</td>\n",
       "    </tr>\n",
       "  </tbody>\n",
       "</table>\n",
       "</div>"
      ],
      "text/plain": [
       "             Open        High         Low       Close   Adj Close  \\\n",
       "count  254.000000  254.000000  254.000000  254.000000  254.000000   \n",
       "mean   550.637755  557.181378  543.245631  550.172913  550.172913   \n",
       "std     67.568468   67.838776   67.440765   67.318396   67.318396   \n",
       "min    378.269989  382.660004  351.459991  359.700012  359.700012   \n",
       "25%    510.577507  514.777496  503.950004  509.027496  509.027496   \n",
       "50%    539.904999  544.455017  531.224976  539.934998  539.934998   \n",
       "75%    598.675018  609.447510  592.892487  598.974991  598.974991   \n",
       "max    692.349976  700.989990  686.090027  691.690002  691.690002   \n",
       "\n",
       "             Volume  \n",
       "count  2.540000e+02  \n",
       "mean   4.520564e+06  \n",
       "std    5.003717e+06  \n",
       "min    1.287200e+06  \n",
       "25%    2.616300e+06  \n",
       "50%    3.261400e+06  \n",
       "75%    4.398425e+06  \n",
       "max    5.890430e+07  "
      ]
     },
     "execution_count": 19,
     "metadata": {},
     "output_type": "execute_result"
    }
   ],
   "source": [
    "df.describe()"
   ]
  },
  {
   "cell_type": "code",
   "execution_count": 20,
   "id": "0eeec703",
   "metadata": {},
   "outputs": [
    {
     "data": {
      "text/html": [
       "<div>\n",
       "<style scoped>\n",
       "    .dataframe tbody tr th:only-of-type {\n",
       "        vertical-align: middle;\n",
       "    }\n",
       "\n",
       "    .dataframe tbody tr th {\n",
       "        vertical-align: top;\n",
       "    }\n",
       "\n",
       "    .dataframe thead th {\n",
       "        text-align: right;\n",
       "    }\n",
       "</style>\n",
       "<table border=\"1\" class=\"dataframe\">\n",
       "  <thead>\n",
       "    <tr style=\"text-align: right;\">\n",
       "      <th></th>\n",
       "      <th>Open</th>\n",
       "      <th>High</th>\n",
       "      <th>Low</th>\n",
       "      <th>Close</th>\n",
       "      <th>Adj Close</th>\n",
       "      <th>Volume</th>\n",
       "    </tr>\n",
       "    <tr>\n",
       "      <th>Date</th>\n",
       "      <th></th>\n",
       "      <th></th>\n",
       "      <th></th>\n",
       "      <th></th>\n",
       "      <th></th>\n",
       "      <th></th>\n",
       "    </tr>\n",
       "  </thead>\n",
       "  <tbody>\n",
       "    <tr>\n",
       "      <th>2021-02-11</th>\n",
       "      <td>564.440002</td>\n",
       "      <td>565.929993</td>\n",
       "      <td>554.219971</td>\n",
       "      <td>557.590027</td>\n",
       "      <td>557.590027</td>\n",
       "      <td>2730600</td>\n",
       "    </tr>\n",
       "    <tr>\n",
       "      <th>2021-02-12</th>\n",
       "      <td>556.940002</td>\n",
       "      <td>561.250000</td>\n",
       "      <td>550.849976</td>\n",
       "      <td>556.520020</td>\n",
       "      <td>556.520020</td>\n",
       "      <td>2197100</td>\n",
       "    </tr>\n",
       "    <tr>\n",
       "      <th>2021-02-16</th>\n",
       "      <td>557.289978</td>\n",
       "      <td>563.630005</td>\n",
       "      <td>552.729980</td>\n",
       "      <td>557.280029</td>\n",
       "      <td>557.280029</td>\n",
       "      <td>2624100</td>\n",
       "    </tr>\n",
       "    <tr>\n",
       "      <th>2021-02-17</th>\n",
       "      <td>550.989990</td>\n",
       "      <td>555.250000</td>\n",
       "      <td>543.030029</td>\n",
       "      <td>551.340027</td>\n",
       "      <td>551.340027</td>\n",
       "      <td>2069600</td>\n",
       "    </tr>\n",
       "    <tr>\n",
       "      <th>2021-02-18</th>\n",
       "      <td>549.000000</td>\n",
       "      <td>550.000000</td>\n",
       "      <td>538.229980</td>\n",
       "      <td>548.219971</td>\n",
       "      <td>548.219971</td>\n",
       "      <td>2456200</td>\n",
       "    </tr>\n",
       "    <tr>\n",
       "      <th>...</th>\n",
       "      <td>...</td>\n",
       "      <td>...</td>\n",
       "      <td>...</td>\n",
       "      <td>...</td>\n",
       "      <td>...</td>\n",
       "      <td>...</td>\n",
       "    </tr>\n",
       "    <tr>\n",
       "      <th>2021-12-27</th>\n",
       "      <td>615.000000</td>\n",
       "      <td>615.000000</td>\n",
       "      <td>609.250000</td>\n",
       "      <td>613.119995</td>\n",
       "      <td>613.119995</td>\n",
       "      <td>2061500</td>\n",
       "    </tr>\n",
       "    <tr>\n",
       "      <th>2021-12-28</th>\n",
       "      <td>614.950012</td>\n",
       "      <td>618.409973</td>\n",
       "      <td>609.690002</td>\n",
       "      <td>610.710022</td>\n",
       "      <td>610.710022</td>\n",
       "      <td>1882800</td>\n",
       "    </tr>\n",
       "    <tr>\n",
       "      <th>2021-12-29</th>\n",
       "      <td>610.710022</td>\n",
       "      <td>613.979980</td>\n",
       "      <td>604.679993</td>\n",
       "      <td>610.539978</td>\n",
       "      <td>610.539978</td>\n",
       "      <td>1287200</td>\n",
       "    </tr>\n",
       "    <tr>\n",
       "      <th>2021-12-30</th>\n",
       "      <td>612.989990</td>\n",
       "      <td>620.609985</td>\n",
       "      <td>611.239990</td>\n",
       "      <td>612.090027</td>\n",
       "      <td>612.090027</td>\n",
       "      <td>1625100</td>\n",
       "    </tr>\n",
       "    <tr>\n",
       "      <th>2021-12-31</th>\n",
       "      <td>610.010010</td>\n",
       "      <td>614.080017</td>\n",
       "      <td>602.049988</td>\n",
       "      <td>602.440002</td>\n",
       "      <td>602.440002</td>\n",
       "      <td>1995900</td>\n",
       "    </tr>\n",
       "  </tbody>\n",
       "</table>\n",
       "<p>225 rows × 6 columns</p>\n",
       "</div>"
      ],
      "text/plain": [
       "                  Open        High         Low       Close   Adj Close  \\\n",
       "Date                                                                     \n",
       "2021-02-11  564.440002  565.929993  554.219971  557.590027  557.590027   \n",
       "2021-02-12  556.940002  561.250000  550.849976  556.520020  556.520020   \n",
       "2021-02-16  557.289978  563.630005  552.729980  557.280029  557.280029   \n",
       "2021-02-17  550.989990  555.250000  543.030029  551.340027  551.340027   \n",
       "2021-02-18  549.000000  550.000000  538.229980  548.219971  548.219971   \n",
       "...                ...         ...         ...         ...         ...   \n",
       "2021-12-27  615.000000  615.000000  609.250000  613.119995  613.119995   \n",
       "2021-12-28  614.950012  618.409973  609.690002  610.710022  610.710022   \n",
       "2021-12-29  610.710022  613.979980  604.679993  610.539978  610.539978   \n",
       "2021-12-30  612.989990  620.609985  611.239990  612.090027  612.090027   \n",
       "2021-12-31  610.010010  614.080017  602.049988  602.440002  602.440002   \n",
       "\n",
       "             Volume  \n",
       "Date                 \n",
       "2021-02-11  2730600  \n",
       "2021-02-12  2197100  \n",
       "2021-02-16  2624100  \n",
       "2021-02-17  2069600  \n",
       "2021-02-18  2456200  \n",
       "...             ...  \n",
       "2021-12-27  2061500  \n",
       "2021-12-28  1882800  \n",
       "2021-12-29  1287200  \n",
       "2021-12-30  1625100  \n",
       "2021-12-31  1995900  \n",
       "\n",
       "[225 rows x 6 columns]"
      ]
     },
     "execution_count": 20,
     "metadata": {},
     "output_type": "execute_result"
    }
   ],
   "source": [
    "df.loc['2021-01-01': '2021-12-31']"
   ]
  },
  {
   "cell_type": "code",
   "execution_count": 21,
   "id": "56c668be",
   "metadata": {},
   "outputs": [
    {
     "data": {
      "text/plain": [
       "Open         5.644400e+02\n",
       "High         5.659300e+02\n",
       "Low          5.542200e+02\n",
       "Close        5.575900e+02\n",
       "Adj Close    5.575900e+02\n",
       "Volume       2.730600e+06\n",
       "Name: 2021-02-11 00:00:00, dtype: float64"
      ]
     },
     "execution_count": 21,
     "metadata": {},
     "output_type": "execute_result"
    }
   ],
   "source": [
    "df.iloc[0]"
   ]
  },
  {
   "cell_type": "code",
   "execution_count": 22,
   "id": "3933036f",
   "metadata": {},
   "outputs": [
    {
     "data": {
      "text/plain": [
       "Open         5.864300e+02\n",
       "High         6.028800e+02\n",
       "Low          5.842600e+02\n",
       "Close        5.937400e+02\n",
       "Adj Close    5.937400e+02\n",
       "Volume       3.358400e+06\n",
       "Name: 2021-12-20 00:00:00, dtype: float64"
      ]
     },
     "execution_count": 22,
     "metadata": {},
     "output_type": "execute_result"
    }
   ],
   "source": [
    "df.loc['2021-12-20']"
   ]
  },
  {
   "cell_type": "code",
   "execution_count": 23,
   "id": "64052bfb",
   "metadata": {},
   "outputs": [
    {
     "data": {
      "text/plain": [
       "Open         4.053300e+02\n",
       "High         4.116103e+02\n",
       "Low          3.956001e+02\n",
       "Close        3.985200e+02\n",
       "Adj Close    3.985200e+02\n",
       "Volume       2.774538e+06\n",
       "Name: 2022-02-11 00:00:00, dtype: float64"
      ]
     },
     "execution_count": 23,
     "metadata": {},
     "output_type": "execute_result"
    }
   ],
   "source": [
    "df.iloc[-1]"
   ]
  },
  {
   "cell_type": "markdown",
   "id": "7f59b4fe",
   "metadata": {},
   "source": [
    "Start of Video 2 --- Series (columns)\n",
    "https://www.youtube.com/watch?v=CG6rMc8FU9I&list=PLvMRWNpDTNwQF6t_Tq7aVX0AI6H1avSpv&index=2\n",
    "\n",
    "Series---must be the same dtype in each series (column)\n",
    "Note: this is different from excel"
   ]
  },
  {
   "cell_type": "code",
   "execution_count": 25,
   "id": "7c1ba66f",
   "metadata": {},
   "outputs": [
    {
     "data": {
      "text/plain": [
       "pandas.core.frame.DataFrame"
      ]
     },
     "execution_count": 25,
     "metadata": {},
     "output_type": "execute_result"
    }
   ],
   "source": [
    "type(df)"
   ]
  },
  {
   "cell_type": "code",
   "execution_count": 26,
   "id": "7ba57eda",
   "metadata": {},
   "outputs": [
    {
     "data": {
      "text/plain": [
       "pandas.core.series.Series"
      ]
     },
     "execution_count": 26,
     "metadata": {},
     "output_type": "execute_result"
    }
   ],
   "source": [
    "type(df[\"Open\"])"
   ]
  },
  {
   "cell_type": "code",
   "execution_count": 27,
   "id": "645b58e8",
   "metadata": {},
   "outputs": [
    {
     "data": {
      "text/plain": [
       "Date\n",
       "2021-02-11    564.440002\n",
       "2021-02-12    556.940002\n",
       "2021-02-16    557.289978\n",
       "2021-02-17    550.989990\n",
       "2021-02-18    549.000000\n",
       "                 ...    \n",
       "2022-02-07    410.170013\n",
       "2022-02-08    398.179993\n",
       "2022-02-09    408.649994\n",
       "2022-02-10    402.100006\n",
       "2022-02-11    405.329987\n",
       "Name: Open, Length: 254, dtype: float64"
      ]
     },
     "execution_count": 27,
     "metadata": {},
     "output_type": "execute_result"
    }
   ],
   "source": [
    "df[\"Open\"]"
   ]
  },
  {
   "cell_type": "code",
   "execution_count": 30,
   "id": "f357499b",
   "metadata": {},
   "outputs": [
    {
     "data": {
      "text/plain": [
       "Date\n",
       "2021-02-11    6.849975\n",
       "2021-02-12    0.419982\n",
       "2021-02-16    0.009949\n",
       "2021-02-17   -0.350037\n",
       "2021-02-18    0.780029\n",
       "                ...   \n",
       "2022-02-07    8.070007\n",
       "2022-02-08   -5.350006\n",
       "2022-02-09   -4.240021\n",
       "2022-02-10   -4.169983\n",
       "2022-02-11    6.809998\n",
       "Length: 254, dtype: float64"
      ]
     },
     "execution_count": 30,
     "metadata": {},
     "output_type": "execute_result"
    }
   ],
   "source": [
    "# Can perform math on series----get daily change\":\n",
    "df[\"Open\"] - df[\"Close\"]"
   ]
  },
  {
   "cell_type": "markdown",
   "id": "40fbb632",
   "metadata": {},
   "source": [
    "Percentage change can be applied to any quantity that you measure over time. Let's say you are tracking the quoted price of a security. If the price increased, use the formula [(New Price - Old Price)/Old Price] and then multiply that number by 100. If the price decreased, use the formula [(Old Price - New Price)/Old Price] and multiply that number by 100. "
   ]
  },
  {
   "cell_type": "code",
   "execution_count": 36,
   "id": "b2e6634f",
   "metadata": {},
   "outputs": [],
   "source": [
    "daily_pct_change = ((df[\"Close\"] - df[\"Open\"]) / df[\"Open\"])*100"
   ]
  },
  {
   "cell_type": "code",
   "execution_count": 37,
   "id": "b367ba07",
   "metadata": {},
   "outputs": [
    {
     "data": {
      "text/plain": [
       "Date\n",
       "2021-02-11   -1.213588\n",
       "2021-02-12   -0.075409\n",
       "2021-02-16   -0.001785\n",
       "2021-02-17    0.063529\n",
       "2021-02-18   -0.142082\n",
       "                ...   \n",
       "2022-02-07   -1.967479\n",
       "2022-02-08    1.343615\n",
       "2022-02-09    1.037568\n",
       "2022-02-10    1.037051\n",
       "2022-02-11   -1.680112\n",
       "Length: 254, dtype: float64"
      ]
     },
     "execution_count": 37,
     "metadata": {},
     "output_type": "execute_result"
    }
   ],
   "source": [
    "daily_pct_change"
   ]
  },
  {
   "cell_type": "markdown",
   "id": "a55bd42c",
   "metadata": {},
   "source": [
    "Normalize the data to see how much you gained or lost from when you purchased\n",
    "If I buy it on day 0. We want to look at each day as a percentage change from when we bought it. \n",
    "So the first day should be 1.0 and then each day thereafter shows your price increased or decreased percentage from that 1.00\n",
    "It shows you your gain or loss % from when you bought it"
   ]
  },
  {
   "cell_type": "code",
   "execution_count": 41,
   "id": "37389347",
   "metadata": {},
   "outputs": [],
   "source": [
    "#take the closing price of each day and fivide it by theclosing price of the last day\n",
    "normalize = df['Close']/df['Close'].iloc[0]"
   ]
  },
  {
   "cell_type": "code",
   "execution_count": 42,
   "id": "24e0731f",
   "metadata": {},
   "outputs": [
    {
     "data": {
      "text/plain": [
       "Date\n",
       "2021-02-11    1.000000\n",
       "2021-02-12    0.998081\n",
       "2021-02-16    0.999444\n",
       "2021-02-17    0.988791\n",
       "2021-02-18    0.983195\n",
       "                ...   \n",
       "2022-02-07    0.721139\n",
       "2022-02-08    0.723704\n",
       "2022-02-09    0.740490\n",
       "2022-02-10    0.728618\n",
       "2022-02-11    0.714719\n",
       "Name: Close, Length: 254, dtype: float64"
      ]
     },
     "execution_count": 42,
     "metadata": {},
     "output_type": "execute_result"
    }
   ],
   "source": [
    "normalize"
   ]
  },
  {
   "cell_type": "code",
   "execution_count": 44,
   "id": "bf2acc11",
   "metadata": {},
   "outputs": [
    {
     "data": {
      "text/plain": [
       "398.51998899999995"
      ]
     },
     "execution_count": 44,
     "metadata": {},
     "output_type": "execute_result"
    }
   ],
   "source": [
    "# Assuming you sold it on day -1, \n",
    "# you can see how the normalize gets you to the price for that day. \n",
    "df['Close'].iloc[0]*normalize.iloc[-1]"
   ]
  },
  {
   "cell_type": "code",
   "execution_count": 45,
   "id": "37029187",
   "metadata": {},
   "outputs": [
    {
     "data": {
      "text/plain": [
       "398.519989"
      ]
     },
     "execution_count": 45,
     "metadata": {},
     "output_type": "execute_result"
    }
   ],
   "source": [
    "df['Close'].iloc[-1]"
   ]
  },
  {
   "cell_type": "code",
   "execution_count": null,
   "id": "324700e3",
   "metadata": {},
   "outputs": [],
   "source": []
  }
 ],
 "metadata": {
  "kernelspec": {
   "display_name": "Python 3 (ipykernel)",
   "language": "python",
   "name": "python3"
  },
  "language_info": {
   "codemirror_mode": {
    "name": "ipython",
    "version": 3
   },
   "file_extension": ".py",
   "mimetype": "text/x-python",
   "name": "python",
   "nbconvert_exporter": "python",
   "pygments_lexer": "ipython3",
   "version": "3.9.7"
  }
 },
 "nbformat": 4,
 "nbformat_minor": 5
}
