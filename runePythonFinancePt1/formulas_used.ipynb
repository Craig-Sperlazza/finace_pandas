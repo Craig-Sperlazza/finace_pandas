{
 "cells": [
  {
   "cell_type": "code",
   "execution_count": null,
   "id": "40b39bf5",
   "metadata": {},
   "outputs": [],
   "source": [
    "# get daily change\":\n",
    "df[\"Open\"] - df[\"Close\"]"
   ]
  },
  {
   "cell_type": "code",
   "execution_count": null,
   "id": "4dec3bff",
   "metadata": {},
   "outputs": [],
   "source": [
    "daily_pct_change = ((df[\"Close\"] - df[\"Open\"]) / df[\"Open\"])*100"
   ]
  },
  {
   "cell_type": "code",
   "execution_count": null,
   "id": "32f9233c",
   "metadata": {},
   "outputs": [],
   "source": [
    "add a column using the pct_change() method\n",
    "data['%-chg'] = data['Close'].pct_change()"
   ]
  },
  {
   "cell_type": "markdown",
   "id": "339cffcf",
   "metadata": {},
   "source": [
    "Normalize the data to see how much you gained or lost from when you purchased If I buy it on day 0. We want to look at each day as a percentage change from when we bought it. So the first day should be 1.0 and then each day thereafter shows your price increased or decreased percentage from that 1.00 It shows you your gain or loss % from when you bought it\n",
    "\n"
   ]
  },
  {
   "cell_type": "code",
   "execution_count": null,
   "id": "83ad3219",
   "metadata": {},
   "outputs": [],
   "source": [
    "#take the closing price of each day and fivide it by theclosing price of the last day\n",
    "normalize = df['Close']/df['Close'].iloc[0]\n",
    "#take the closing price of each day and fivide it by theclosing price of the last day\n",
    "normalize = df['Close']/df['Close'].iloc[0]"
   ]
  },
  {
   "cell_type": "code",
   "execution_count": null,
   "id": "66a11a85",
   "metadata": {},
   "outputs": [],
   "source": [
    "data['Close'].mean()\n",
    "data['Close'].max()\n",
    "data['Close'].min()\n",
    "data['Close'].argmin() #gives you the row it is in\n",
    "data['Close'].argmean() #gives you the row it is in"
   ]
  },
  {
   "cell_type": "code",
   "execution_count": null,
   "id": "9c0d8abc",
   "metadata": {},
   "outputs": [],
   "source": []
  },
  {
   "cell_type": "code",
   "execution_count": null,
   "id": "d18815bc",
   "metadata": {},
   "outputs": [],
   "source": [
    "#To calculate the standard deviation:\n",
    "#First get the log returns\n",
    "data['log_returns'] = np.log(data['Close']/data['Close'].shift())\n",
    "#then get a daily std dev\n",
    "daily_std_close_price = data['log_returns'].std()\n",
    "#volatility is the anuual std dev\n",
    "volatility_close_price = daily_std_close_price * math.sqrt(252)\n",
    "str_volatility = str(round(volatility_close_price, 4)*100)\n",
    "#graph it\n",
    "fig, ax = plt.subplots()\n",
    "data['log_returns'].hist(ax=ax, bins=50, alpha=0.6, color='b')\n",
    "ax.set_xlabel(\"Log Return\")\n",
    "ax.set_ylabel(\"Freq of Log Return\")\n",
    "ax.set_title(\"NFLX Volatility: \" + str_volatility + \"%\")"
   ]
  },
  {
   "cell_type": "code",
   "execution_count": null,
   "id": "b8b1f35c",
   "metadata": {},
   "outputs": [],
   "source": []
  },
  {
   "cell_type": "code",
   "execution_count": null,
   "id": "d52293d1",
   "metadata": {},
   "outputs": [],
   "source": [
    "#moving avg---50, 200 common\n",
    "data['MA50'] = data['Close'].rolling(50).mean()\n",
    "\n",
    "#Exponential Moving Average Use the ewm() function \n",
    "#This is more reactive---it puts more weight on the most recent values\n",
    "data['EMA50'] = data['Close'].ewm(span=50, adjust=False).mean()"
   ]
  },
  {
   "cell_type": "markdown",
   "id": "6b9b2561",
   "metadata": {},
   "source": [
    "Moving average convergence divergence (MACD) is a trend-following momentum indicator that shows the relationship between two moving averages of a security’s price. The MACD is calculated by subtracting the 26-period exponential moving average (EMA) from the 12-period EMA. Signal Line is 9 period EMA of MACD\n",
    "\n",
    "When the blue line (MACD) dips below the orange line (Signal Line) it is a sell When the MACD moves above the Signal line it is a buy or keep Price is included for reference"
   ]
  },
  {
   "cell_type": "code",
   "execution_count": null,
   "id": "c0b2c050",
   "metadata": {},
   "outputs": [],
   "source": [
    "#Provide exponentially weighted (EW) calculations.\n",
    "#Exactly one parameter: com, span, halflife, or alpha must be provided.\n",
    "exp12 = data['Close'].ewm(span=12, adjust=False).mean()\n",
    "exp26 = data['Close'].ewm(span=26, adjust=False).mean()\n",
    "data['MACD'] = exp12 - exp26\n",
    "data['Signal Line'] = data['MACD'].ewm(span=9, adjust=False).mean()\n",
    "\n",
    "fig, ax = plt.subplots()\n",
    "data[['MACD', 'Signal Line']].plot(ax=ax)\n",
    "data['Close'].plot(ax=ax, alpha=0.25, secondary_y=True)\n"
   ]
  },
  {
   "cell_type": "code",
   "execution_count": null,
   "id": "9479db33",
   "metadata": {},
   "outputs": [],
   "source": []
  },
  {
   "cell_type": "markdown",
   "id": "697e409f",
   "metadata": {},
   "source": [
    "A stochastic oscillator is a momentum indicator comparing a particular closing price of a security to a range of its prices over a certain period of time. The sensitivity of the oscillator to market movements is reducible by adjusting that time period or by taking a moving average of the result. It is used to generate overbought and oversold trading signals, utilizing a 0–100 bounded range of values.\n",
    "\n",
    "https://www.investopedia.com/terms/s/stochasticoscillator.asp\n",
    "\n",
    "14 day high\n",
    "high14 = data['High'].rolling(14).max()\n",
    "\n",
    "14 day low\n",
    "low14 = data['Low'].rolling(14).min()\n",
    "\n",
    "%K = (Last close - 14low)*100 / (14high-14low)\n",
    "data['%K'] = (data['Close'] - low14)*100 / (high14 - low14)\n",
    "\n",
    "%D = Simple Moving Avg (SMA) of %K (3 days)\n",
    "data['%D'] = data['%K'].rolling(3).mean()\n",
    "\n",
    "fig, ax = plt.subplots()\n",
    "data[['%K', '%D']].loc['2021-11-01':].plot(ax=ax)\n",
    "ax.axhline(80, c='r', alpha=0.3)\n",
    "ax.axhline(20, c='r', alpha=0.3)\n",
    "data['Close'].loc['2021-11-01':].plot(ax=ax, alpha=0.3, secondary_y=True)\n",
    "\n",
    "Green Line is closing price When the lines are above the 80% line, it may be overbought When the %K (blue) crosses under the %D (orange) it is sell When the %K (blue) crosses over the %D (orange) it is buy/hold"
   ]
  },
  {
   "cell_type": "code",
   "execution_count": null,
   "id": "5965f112",
   "metadata": {},
   "outputs": [],
   "source": []
  },
  {
   "cell_type": "code",
   "execution_count": null,
   "id": "c473bb8c",
   "metadata": {},
   "outputs": [],
   "source": []
  },
  {
   "cell_type": "code",
   "execution_count": null,
   "id": "3d2b1c90",
   "metadata": {},
   "outputs": [],
   "source": []
  },
  {
   "cell_type": "code",
   "execution_count": null,
   "id": "e217c135",
   "metadata": {},
   "outputs": [],
   "source": []
  },
  {
   "cell_type": "code",
   "execution_count": null,
   "id": "0175b614",
   "metadata": {},
   "outputs": [],
   "source": []
  },
  {
   "cell_type": "code",
   "execution_count": null,
   "id": "1a48682d",
   "metadata": {},
   "outputs": [],
   "source": []
  },
  {
   "cell_type": "code",
   "execution_count": null,
   "id": "7b0b8cfb",
   "metadata": {},
   "outputs": [],
   "source": []
  }
 ],
 "metadata": {
  "kernelspec": {
   "display_name": "Python 3 (ipykernel)",
   "language": "python",
   "name": "python3"
  },
  "language_info": {
   "codemirror_mode": {
    "name": "ipython",
    "version": 3
   },
   "file_extension": ".py",
   "mimetype": "text/x-python",
   "name": "python",
   "nbconvert_exporter": "python",
   "pygments_lexer": "ipython3",
   "version": "3.9.7"
  }
 },
 "nbformat": 4,
 "nbformat_minor": 5
}
